{
  "nbformat": 4,
  "nbformat_minor": 0,
  "metadata": {
    "colab": {
      "name": "PINN_SimpleODE.ipynb",
      "provenance": [],
      "toc_visible": true,
      "collapsed_sections": [],
      "authorship_tag": "ABX9TyMXovfy2UBYDbsvbg5StBlA",
      "include_colab_link": true
    },
    "kernelspec": {
      "name": "python3",
      "display_name": "Python 3"
    },
    "language_info": {
      "name": "python"
    },
    "accelerator": "GPU"
  },
  "cells": [
    {
      "cell_type": "markdown",
      "metadata": {
        "id": "view-in-github",
        "colab_type": "text"
      },
      "source": [
        "<a href=\"https://colab.research.google.com/github/roderickperez/PINN/blob/master/PINN_SimpleODE.ipynb\" target=\"_parent\"><img src=\"https://colab.research.google.com/assets/colab-badge.svg\" alt=\"Open In Colab\"/></a>"
      ]
    },
    {
      "cell_type": "markdown",
      "source": [
        "# PINN\n",
        "Tutorial 2: Simple ODE \n",
        "\n",
        "Reference: Juan Toscano (Github: jdtoscano94)\n",
        "\n",
        "https://github.com/jdtoscano94/Learning-PINNs-in-Pytorch-Physics-Informed-Machine-Learning/blob/main/2_SimpleODE.ipynb"
      ],
      "metadata": {
        "id": "SYyyqCcPIBYu"
      }
    },
    {
      "cell_type": "markdown",
      "source": [
        "## 0. Install Libraries"
      ],
      "metadata": {
        "id": "D2MNFuKLJlAF"
      }
    },
    {
      "cell_type": "code",
      "source": [
        "! pip install pyDOE"
      ],
      "metadata": {
        "colab": {
          "base_uri": "https://localhost:8080/"
        },
        "id": "dwW7CHsTJnHt",
        "outputId": "bb3104f3-77f9-4b51-cf66-3cf3fca3ccd2"
      },
      "execution_count": 70,
      "outputs": [
        {
          "output_type": "stream",
          "name": "stdout",
          "text": [
            "Looking in indexes: https://pypi.org/simple, https://us-python.pkg.dev/colab-wheels/public/simple/\n",
            "Requirement already satisfied: pyDOE in /usr/local/lib/python3.7/dist-packages (0.3.8)\n",
            "Requirement already satisfied: scipy in /usr/local/lib/python3.7/dist-packages (from pyDOE) (1.4.1)\n",
            "Requirement already satisfied: numpy in /usr/local/lib/python3.7/dist-packages (from pyDOE) (1.21.6)\n"
          ]
        }
      ]
    },
    {
      "cell_type": "markdown",
      "source": [
        "## 1. Import Libraries"
      ],
      "metadata": {
        "id": "vY_m4ArKJi68"
      }
    },
    {
      "cell_type": "code",
      "execution_count": 71,
      "metadata": {
        "id": "12FPCeSnH0PM"
      },
      "outputs": [],
      "source": [
        "import torch\n",
        "import torch.autograd as autograd         # computation graph\n",
        "from torch import Tensor                  # tensor node in the computation graph\n",
        "import torch.nn as nn                     # neural networks\n",
        "import torch.optim as optim               # optimizers e.g. gradient descent, ADAM, etc."
      ]
    },
    {
      "cell_type": "code",
      "source": [
        "import matplotlib.pyplot as plt\n",
        "import matplotlib.gridspec as gridspec\n",
        "from mpl_toolkits.axes_grid1 import make_axes_locatable\n",
        "from mpl_toolkits.mplot3d import Axes3D\n",
        "import matplotlib.ticker\n",
        "from sklearn.model_selection import train_test_split\n",
        "\n",
        "import numpy as np\n",
        "import time\n",
        "from pyDOE import lhs         #Latin Hypercube Sampling\n",
        "import scipy.io"
      ],
      "metadata": {
        "id": "EKHxoqTEJtqm"
      },
      "execution_count": 72,
      "outputs": []
    },
    {
      "cell_type": "markdown",
      "source": [
        "## 2. Setup parameters and constants"
      ],
      "metadata": {
        "id": "3oYc_W7VJzIZ"
      }
    },
    {
      "cell_type": "code",
      "source": [
        "#Set default dtype to float32\n",
        "torch.set_default_dtype(torch.float)\n",
        "\n",
        "#PyTorch random number generator\n",
        "torch.manual_seed(1234)\n",
        "\n",
        "# Random number generators in other libraries\n",
        "np.random.seed(1234)\n",
        "\n",
        "# Device configuration\n",
        "device = torch.device('cuda' if torch.cuda.is_available() else 'cpu')\n",
        "\n",
        "print(device)\n",
        "\n",
        "if device == 'cuda': \n",
        "    print(torch.cuda.get_device_name())"
      ],
      "metadata": {
        "colab": {
          "base_uri": "https://localhost:8080/"
        },
        "id": "T53K5vIKJwaG",
        "outputId": "3782e2d3-8f5c-461b-eff0-7d0742f702dc"
      },
      "execution_count": 73,
      "outputs": [
        {
          "output_type": "stream",
          "name": "stdout",
          "text": [
            "cpu\n"
          ]
        }
      ]
    },
    {
      "cell_type": "code",
      "source": [
        "steps = 250\n",
        "lr = 0.001\n",
        "\n",
        "layers = np.array([1,50,50,20,50,50,1]) #5 hidden layers\n",
        "min=0\n",
        "max=2*np.pi\n",
        "total_points=500\n",
        "\n",
        "\n",
        "Nu = 2 #Nu: Number of training points (2 as we only have 2 boundaries)\n",
        "Nf = 50 # Nf: Number of collocation points (Evaluate ODE)"
      ],
      "metadata": {
        "id": "Df6HMEAGJ6pK"
      },
      "execution_count": 74,
      "outputs": []
    },
    {
      "cell_type": "markdown",
      "source": [
        "## 3. Define Function"
      ],
      "metadata": {
        "id": "D-Z_Y9k9KG2o"
      }
    },
    {
      "cell_type": "markdown",
      "source": [
        "### ODE\n",
        "\n",
        "What function has as a derivative $cos(X)$?\n",
        "\n",
        "$$ y_{x}=\\frac{dy}{dx}=cos(x) $$\n",
        "\n",
        "Residual:\n",
        "\n",
        "$$f_{x}=y_{x}-cos(x)$$\n",
        "\n",
        "where $y_{x}$ is the output solution.\n",
        "\n",
        "**Initial Conditions**\n",
        "\n",
        "If we evaluate the function at \n",
        "\n",
        "* $x=0$\n",
        "\n",
        "$$ y_{0} = cos(0) = 1 $$\n",
        "\n",
        "$$f_{0} = y_{0}-cos(0) = 1 - 1 = 0$$\n",
        "\n",
        "*  $x = 2\\pi$\n",
        "\n",
        "$$ y_{2\\pi} = cos(2\\pi) = 1 $$\n",
        "\n",
        "$$f_{0} = y_{2\\pi}-cos(2\\pi) = 1 - 1 = 0$$\n",
        "\n",
        "**Analytical solution of equation**\n",
        "$$\\int dy = \\int cos(x) dx$$\n",
        "\n",
        "$$y(x) = sin(x) + C $$\n",
        "\n",
        "Since \n",
        "\n",
        "$$y(0) = 0 = sin(x) + C ⇒ C = 0$$\n",
        "\n",
        "So, the function that has as a derivative $cos(X)$ is:\n",
        "\n",
        "$$y(x) = sin(x)$$"
      ],
      "metadata": {
        "id": "wv8dR_L_RcXM"
      }
    },
    {
      "cell_type": "markdown",
      "source": [
        "This function satisfies the boundry conditions. The same as the real one (To ease the data generation), but we may not have it."
      ],
      "metadata": {
        "id": "1kQLpCMueieF"
      }
    },
    {
      "cell_type": "code",
      "source": [
        "def f_BC(x):\n",
        "  return torch.sin(x)"
      ],
      "metadata": {
        "id": "5Q6oIuMlKEim"
      },
      "execution_count": 75,
      "outputs": []
    },
    {
      "cell_type": "markdown",
      "source": [
        "The PDE equation is used to get the residual in the Neural Network."
      ],
      "metadata": {
        "id": "O_19QSAjVL6B"
      }
    },
    {
      "cell_type": "code",
      "source": [
        "def PDE(x):\n",
        "  return torch.cos(x)"
      ],
      "metadata": {
        "id": "0nD4_DnhVK11"
      },
      "execution_count": 76,
      "outputs": []
    },
    {
      "cell_type": "markdown",
      "source": [
        "## 4. Define Network Architecture\n",
        "\n",
        "Following the PyTorch Network Architecture\n",
        "```python\n",
        "class networkName(nn.Module):\n",
        "\n",
        "    def __init__(self, ...):\n",
        "        super(networkName, self).__init__()\n",
        "        # Define Network layers\n",
        "        self.layer1 = nn.XXXX(...)\n",
        "        self.layer2 = nn.XXXX(...)\n",
        "        ...\n",
        "        self.layern = nn.XXXX(...)\n",
        "\n",
        "    def forward(self, x):\n",
        "        out = self.layer1\n",
        "        out = self.layer2\n",
        "        ...\n",
        "        out = self.layern\n",
        "\n",
        "        return out\n",
        "\n",
        "# Call the model\n",
        "model = networkName(...)\n",
        "\n",
        "# Define loss\n",
        "loss = nn.XXXLoss()\n",
        "```\n",
        "\n",
        "In this case, we will follow the following architecture:\n",
        "\n",
        "*   Activation Function: tanh\n",
        "*   Loss Function: MSE\n",
        "*   Initialise neural network as a list using `nn.Modulelist()`\n"
      ],
      "metadata": {
        "id": "xtjA2SNEKRb8"
      }
    },
    {
      "cell_type": "code",
      "source": [
        "class FCN(nn.Module):\n",
        "    ##Neural Network\n",
        "    def __init__(self,layers):\n",
        "        super().__init__() #call __init__ from parent class \n",
        "        'activation function'\n",
        "        self.activation = nn.Tanh()\n",
        "        'loss function'\n",
        "        self.loss_function = nn.MSELoss(reduction ='mean')\n",
        "        'Initialise neural network as a list using nn.Modulelist'  \n",
        "        self.linears = nn.ModuleList([nn.Linear(layers[i], layers[i+1]) for i in range(len(layers)-1)]) \n",
        "        self.iter = 0\n",
        "        'Xavier Normal Initialization'\n",
        "        # std = gain * sqrt(2/(input_dim+output_dim))\n",
        "        for i in range(len(layers)-1):\n",
        "            \n",
        "            # weights from a normal distribution with \n",
        "            # Recommended gain value for tanh = 5/3?\n",
        "            nn.init.xavier_normal_(self.linears[i].weight.data, gain=1.0)\n",
        "            \n",
        "            # set biases to zero\n",
        "            nn.init.zeros_(self.linears[i].bias.data)   \n",
        "\n",
        "    def forward(self,x):\n",
        "        if torch.is_tensor(x) != True:         \n",
        "            x = torch.from_numpy(x)                \n",
        "        a = x.float()\n",
        "        for i in range(len(layers)-2):  \n",
        "            z = self.linears[i](a)              \n",
        "            a = self.activation(z)    \n",
        "        a = self.linears[-1](a)\n",
        "        return a\n",
        "    'Loss Functions'\n",
        "    #Loss BC\n",
        "    def lossBC(self,x_BC):\n",
        "      loss_BC=self.loss_function(self.forward(x_BC),f_BC(x_BC))\n",
        "      return loss_BC\n",
        "    #Loss PDE\n",
        "    def lossPDE(self,x_PDE):\n",
        "      g=x_PDE.clone()\n",
        "      g.requires_grad=True #Enable differentiation\n",
        "      f=self.forward(g)\n",
        "      f_x=autograd.grad(f,g,torch.ones([x_PDE.shape[0],1]).to(device),retain_graph=True, create_graph=True)[0]\n",
        "      loss_PDE=self.loss_function(f_x,PDE(g))\n",
        "      return loss_PDE\n",
        "      \n",
        "    def loss(self,x_BC,x_PDE):\n",
        "      loss_bc=self.lossBC(x_BC)\n",
        "      loss_pde=self.lossPDE(x_PDE)\n",
        "      return loss_bc+loss_pde\n",
        "\n",
        "    def closure(self):\n",
        "        \n",
        "        optimizer.zero_grad()\n",
        "        loss = self.lossNN(x_train, y_train)\n",
        "        loss.backward()       \n",
        "        self.iter += 1\n",
        "        if self.iter % 100 == 0:\n",
        "            print(loss)\n",
        "        return loss"
      ],
      "metadata": {
        "id": "9xvbzu3BKKHV"
      },
      "execution_count": 77,
      "outputs": []
    },
    {
      "cell_type": "markdown",
      "source": [
        "## 5. Data\n",
        "\n",
        "Generate the analytical solution over the full domain"
      ],
      "metadata": {
        "id": "wvFXtytlNdIK"
      }
    },
    {
      "cell_type": "code",
      "source": [
        "x = torch.linspace(min,max,total_points).view(-1,1) #prepare to NN\n",
        "y = f_BC(x)\n",
        "print('X tensor shape: ', x.shape)\n",
        "print('Y tensor shape: ', y.shape)"
      ],
      "metadata": {
        "colab": {
          "base_uri": "https://localhost:8080/"
        },
        "id": "J_6QkhEtNabH",
        "outputId": "6d91b5ab-0078-4157-da6b-23cd37cf3353"
      },
      "execution_count": 78,
      "outputs": [
        {
          "output_type": "stream",
          "name": "stdout",
          "text": [
            "X tensor shape:  torch.Size([500, 1])\n",
            "Y tensor shape:  torch.Size([500, 1])\n"
          ]
        }
      ]
    },
    {
      "cell_type": "markdown",
      "source": [
        "### Plot Results"
      ],
      "metadata": {
        "id": "an4eSgkWNo28"
      }
    },
    {
      "cell_type": "code",
      "source": [
        "fig, ax1 = plt.subplots()\n",
        "ax1.plot(x.detach().numpy(),y.detach().numpy(),color='blue',label='Real_Train')\n",
        "#ax1.plot(x_train.detach().numpy(),yh.detach().numpy(),color='red',label='Pred_Train')\n",
        "ax1.set_xlabel('x',color='black')\n",
        "ax1.set_ylabel('f(x)',color='black')\n",
        "ax1.tick_params(axis='y', color='black')\n",
        "ax1.grid()\n",
        "ax1.legend(loc = 'upper right')"
      ],
      "metadata": {
        "colab": {
          "base_uri": "https://localhost:8080/",
          "height": 297
        },
        "id": "8ZfTOXOYNmDY",
        "outputId": "5512bd09-2ef0-42cc-a9d6-a79a2fc66f48"
      },
      "execution_count": 79,
      "outputs": [
        {
          "output_type": "execute_result",
          "data": {
            "text/plain": [
              "<matplotlib.legend.Legend at 0x7f8b026bc6d0>"
            ]
          },
          "metadata": {},
          "execution_count": 79
        },
        {
          "output_type": "display_data",
          "data": {
            "text/plain": [
              "<Figure size 432x288 with 1 Axes>"
            ],
            "image/png": "[encoded data removed]"
          },
          "metadata": {
            "needs_background": "light"
          }
        }
      ]
    },
    {
      "cell_type": "markdown",
      "source": [
        "### Set Boundary conditions:\n"
      ],
      "metadata": {
        "id": "gOrdi6TMXDAF"
      }
    },
    {
      "cell_type": "markdown",
      "source": [
        "Select the first and the last values of the evaluated function as a Boundary conditions."
      ],
      "metadata": {
        "id": "FYr4ITh2UROO"
      }
    },
    {
      "cell_type": "code",
      "source": [
        "BC_1=x[0,:]\n",
        "BC_2=x[-1,:]"
      ],
      "metadata": {
        "id": "SJuJ_i_rXER1"
      },
      "execution_count": 80,
      "outputs": []
    },
    {
      "cell_type": "code",
      "source": [
        "print('Location in x of Boundary Condition 1: ', BC_1.item())"
      ],
      "metadata": {
        "colab": {
          "base_uri": "https://localhost:8080/"
        },
        "id": "Z_GxcpzmTvnW",
        "outputId": "61a7d495-d00f-46d5-a755-76a607e294f8"
      },
      "execution_count": 81,
      "outputs": [
        {
          "output_type": "stream",
          "name": "stdout",
          "text": [
            "Location in x of Boundary Condition 1:  0.0\n"
          ]
        }
      ]
    },
    {
      "cell_type": "code",
      "source": [
        "print('Location in x of Boundary Condition 2: ', BC_2.item())"
      ],
      "metadata": {
        "colab": {
          "base_uri": "https://localhost:8080/"
        },
        "id": "rL7_xDlWTy57",
        "outputId": "b9a8a271-8d7b-44e7-99fa-a40651662ee6"
      },
      "execution_count": 82,
      "outputs": [
        {
          "output_type": "stream",
          "name": "stdout",
          "text": [
            "Location in x of Boundary Condition 2:  6.2831854820251465\n"
          ]
        }
      ]
    },
    {
      "cell_type": "markdown",
      "source": [
        "### Total Training points\n",
        "$$total = BC_{1}+BC_{2}$$\n"
      ],
      "metadata": {
        "id": "gH0H6-sZXLig"
      }
    },
    {
      "cell_type": "code",
      "source": [
        "all_train = torch.vstack([BC_1,BC_2])"
      ],
      "metadata": {
        "id": "dVueQkOxXMuA"
      },
      "execution_count": 83,
      "outputs": []
    },
    {
      "cell_type": "code",
      "source": [
        "print('Total Boundary Condition Points: ', len(all_train))"
      ],
      "metadata": {
        "colab": {
          "base_uri": "https://localhost:8080/"
        },
        "id": "mPd2kE9WTU6u",
        "outputId": "9c9e7487-50e9-410f-e57a-2daa84a04da2"
      },
      "execution_count": 84,
      "outputs": [
        {
          "output_type": "stream",
          "name": "stdout",
          "text": [
            "Total Boundary Condition Points:  2\n"
          ]
        }
      ]
    },
    {
      "cell_type": "markdown",
      "source": [
        "### Select Nu points\n"
      ],
      "metadata": {
        "id": "wv4mgBGzXaA3"
      }
    },
    {
      "cell_type": "code",
      "source": [
        "idx = np.random.choice(all_train.shape[0], Nu, replace=False) \n",
        "x_BC=all_train[idx]"
      ],
      "metadata": {
        "id": "jhutBnqvXbzt"
      },
      "execution_count": 85,
      "outputs": []
    },
    {
      "cell_type": "code",
      "source": [
        "print('Total Boundary Condition Points: ', len(x_BC))"
      ],
      "metadata": {
        "colab": {
          "base_uri": "https://localhost:8080/"
        },
        "id": "hXz4i05cUoyD",
        "outputId": "6181d2cd-e554-4a9e-c668-92940c1b2c7c"
      },
      "execution_count": 86,
      "outputs": [
        {
          "output_type": "stream",
          "name": "stdout",
          "text": [
            "Total Boundary Condition Points:  2\n"
          ]
        }
      ]
    },
    {
      "cell_type": "code",
      "source": [
        "# Evaluate the Boundary Conditions in Function\n",
        "x_BC=f_BC(x_BC).to(device)"
      ],
      "metadata": {
        "id": "GVih0qPkXjI6"
      },
      "execution_count": 87,
      "outputs": []
    },
    {
      "cell_type": "code",
      "source": [
        "print('Result of Evaluate Boundary Condition 1: ', x_BC[0].item())\n",
        "print('Result of Evaluate Boundary Condition 2: ', x_BC[1].item())"
      ],
      "metadata": {
        "colab": {
          "base_uri": "https://localhost:8080/"
        },
        "id": "lHG4rSJ3XlQJ",
        "outputId": "b0f13f90-d3d6-4886-b3f4-f52775815d77"
      },
      "execution_count": 88,
      "outputs": [
        {
          "output_type": "stream",
          "name": "stdout",
          "text": [
            "Result of Evaluate Boundary Condition 1:  0.0\n",
            "Result of Evaluate Boundary Condition 2:  1.7484555314695172e-07\n"
          ]
        }
      ]
    },
    {
      "cell_type": "code",
      "source": [
        "fig, ax1 = plt.subplots()\n",
        "ax1.plot(x.detach().numpy(),y.detach().numpy(),color='blue',label='Real_Train')\n",
        "ax1.scatter(BC_1.detach().numpy(),x_BC[0],color='red',label='Bound Con 1')\n",
        "ax1.scatter(BC_2.detach().numpy(),x_BC[1],color='green',label='Bound Con 2')\n",
        "ax1.set_xlabel('x',color='black')\n",
        "ax1.set_ylabel('f(x)',color='black')\n",
        "ax1.tick_params(axis='y', color='black')\n",
        "ax1.grid()\n",
        "ax1.legend(loc = 'upper right')"
      ],
      "metadata": {
        "colab": {
          "base_uri": "https://localhost:8080/",
          "height": 297
        },
        "id": "tTUvSkLZXCwQ",
        "outputId": "8091572c-86e5-4317-9035-52c95acac6f5"
      },
      "execution_count": 89,
      "outputs": [
        {
          "output_type": "execute_result",
          "data": {
            "text/plain": [
              "<matplotlib.legend.Legend at 0x7f8b0249bb90>"
            ]
          },
          "metadata": {},
          "execution_count": 89
        },
        {
          "output_type": "display_data",
          "data": {
            "text/plain": [
              "<Figure size 432x288 with 1 Axes>"
            ],
            "image/png": "[encoded data removed]"
          },
          "metadata": {
            "needs_background": "light"
          }
        }
      ]
    },
    {
      "cell_type": "markdown",
      "source": [
        "### Select Nf points\n",
        "\n",
        "Note:\n",
        "\n",
        "A Latin Hypercube (`lhs`) was used to sample collocation points "
      ],
      "metadata": {
        "id": "HKVa6HZBXdKs"
      }
    },
    {
      "cell_type": "code",
      "source": [
        "# Positions in X to evaluate (Nf + BC)\n",
        "x_PDE = BC_1 + (BC_2-BC_1)*lhs(1,Nf)\n",
        "x_PDE = torch.vstack((x_PDE,x_BC))"
      ],
      "metadata": {
        "id": "UtT0sOlkXjIy"
      },
      "execution_count": 90,
      "outputs": []
    },
    {
      "cell_type": "markdown",
      "source": [
        "Data points\n",
        "\n",
        "`Nf` is the number of collocation points, corresponding to the number of points to evaluate the function."
      ],
      "metadata": {
        "id": "eWnErbe3XmgL"
      }
    },
    {
      "cell_type": "code",
      "source": [
        "print('Total Evaluation Points (X): ', x_PDE.shape[0])"
      ],
      "metadata": {
        "colab": {
          "base_uri": "https://localhost:8080/"
        },
        "id": "GaAJFaeFVn-B",
        "outputId": "a478fd0c-b60a-4cf0-c7b3-c8cde374f91d"
      },
      "execution_count": 91,
      "outputs": [
        {
          "output_type": "stream",
          "name": "stdout",
          "text": [
            "Total Evaluation Points (X):  52\n"
          ]
        }
      ]
    },
    {
      "cell_type": "code",
      "source": [
        "# Evaluate the Boundary Conditions in Function\n",
        "y_PDE = f_BC(x_PDE).to(device)"
      ],
      "metadata": {
        "id": "-u6KBWSgbJne"
      },
      "execution_count": 92,
      "outputs": []
    },
    {
      "cell_type": "code",
      "source": [
        "print('Total Evaluated Points (Y): ', len(y_PDE))"
      ],
      "metadata": {
        "colab": {
          "base_uri": "https://localhost:8080/"
        },
        "id": "iRTu4T8Acztm",
        "outputId": "03179d83-4296-425b-9b8f-99c8be21f592"
      },
      "execution_count": 93,
      "outputs": [
        {
          "output_type": "stream",
          "name": "stdout",
          "text": [
            "Total Evaluated Points (Y):  52\n"
          ]
        }
      ]
    },
    {
      "cell_type": "code",
      "source": [
        "fig, ax1 = plt.subplots()\n",
        "ax1.plot(x.detach().numpy(),y.detach().numpy(),color='blue',label='Real_Train')\n",
        "ax1.scatter(x_PDE.detach().numpy(),y_PDE.detach().numpy(),color='red',label='Training Points')\n",
        "ax1.set_xlabel('x',color='black')\n",
        "ax1.set_ylabel('f(x)',color='black')\n",
        "ax1.tick_params(axis='y', color='black')\n",
        "ax1.grid()\n",
        "ax1.legend(loc = 'upper right')"
      ],
      "metadata": {
        "colab": {
          "base_uri": "https://localhost:8080/",
          "height": 297
        },
        "id": "lK2fA7ccbo5w",
        "outputId": "a9031c20-cbdd-4337-b806-349a916cb450"
      },
      "execution_count": 94,
      "outputs": [
        {
          "output_type": "execute_result",
          "data": {
            "text/plain": [
              "<matplotlib.legend.Legend at 0x7f8b02718ed0>"
            ]
          },
          "metadata": {},
          "execution_count": 94
        },
        {
          "output_type": "display_data",
          "data": {
            "text/plain": [
              "<Figure size 432x288 with 1 Axes>"
            ],
            "image/png": "[encoded data removed]"
          },
          "metadata": {
            "needs_background": "light"
          }
        }
      ]
    },
    {
      "cell_type": "markdown",
      "source": [
        "## 6. Train Network"
      ],
      "metadata": {
        "id": "0lRIQyegOEVj"
      }
    },
    {
      "cell_type": "code",
      "source": [
        "# Prepare model\n",
        "torch.manual_seed(123)\n",
        "x_PDE=x_PDE.float().to(device)\n",
        "x_BC=x_BC.to(device)"
      ],
      "metadata": {
        "id": "rHjzuynzOC-V"
      },
      "execution_count": 95,
      "outputs": []
    },
    {
      "cell_type": "code",
      "source": [
        "len(x_PDE)"
      ],
      "metadata": {
        "colab": {
          "base_uri": "https://localhost:8080/"
        },
        "id": "WrVRkv-BdyYO",
        "outputId": "d9ae80f5-b7c0-4b0d-be58-85b88a85cd73"
      },
      "execution_count": 96,
      "outputs": [
        {
          "output_type": "execute_result",
          "data": {
            "text/plain": [
              "52"
            ]
          },
          "metadata": {},
          "execution_count": 96
        }
      ]
    },
    {
      "cell_type": "code",
      "source": [
        "len(x_BC)"
      ],
      "metadata": {
        "colab": {
          "base_uri": "https://localhost:8080/"
        },
        "id": "o-o01xejd1GU",
        "outputId": "1f74acf1-a726-4c0d-bc92-f02c62203a7b"
      },
      "execution_count": 97,
      "outputs": [
        {
          "output_type": "execute_result",
          "data": {
            "text/plain": [
              "2"
            ]
          },
          "metadata": {},
          "execution_count": 97
        }
      ]
    },
    {
      "cell_type": "code",
      "source": [
        "# Create Model and Show Summary\n",
        "model = FCN(layers)\n",
        "model.to(device)\n",
        "\n",
        "print(model)"
      ],
      "metadata": {
        "colab": {
          "base_uri": "https://localhost:8080/"
        },
        "id": "-B6c7SssOXX3",
        "outputId": "89bd28ef-0693-436d-da8a-8de99c8304c9"
      },
      "execution_count": 98,
      "outputs": [
        {
          "output_type": "stream",
          "name": "stdout",
          "text": [
            "FCN(\n",
            "  (activation): Tanh()\n",
            "  (loss_function): MSELoss()\n",
            "  (linears): ModuleList(\n",
            "    (0): Linear(in_features=1, out_features=50, bias=True)\n",
            "    (1): Linear(in_features=50, out_features=50, bias=True)\n",
            "    (2): Linear(in_features=50, out_features=20, bias=True)\n",
            "    (3): Linear(in_features=20, out_features=50, bias=True)\n",
            "    (4): Linear(in_features=50, out_features=50, bias=True)\n",
            "    (5): Linear(in_features=50, out_features=1, bias=True)\n",
            "  )\n",
            ")\n"
          ]
        }
      ]
    },
    {
      "cell_type": "code",
      "source": [
        "params = list(model.parameters())\n",
        "optimizer = torch.optim.Adam(model.parameters(),lr=lr,amsgrad=False)\n",
        "start_time = time.time()"
      ],
      "metadata": {
        "id": "gQCW6QERfLzG"
      },
      "execution_count": 99,
      "outputs": []
    },
    {
      "cell_type": "code",
      "source": [
        "len(x_PDE)"
      ],
      "metadata": {
        "colab": {
          "base_uri": "https://localhost:8080/"
        },
        "id": "BLsTp-SdeIHA",
        "outputId": "e99979fa-d32f-4888-f414-5d73a8e30ad6"
      },
      "execution_count": 100,
      "outputs": [
        {
          "output_type": "execute_result",
          "data": {
            "text/plain": [
              "52"
            ]
          },
          "metadata": {},
          "execution_count": 100
        }
      ]
    },
    {
      "cell_type": "code",
      "source": [
        "len(x_BC)"
      ],
      "metadata": {
        "colab": {
          "base_uri": "https://localhost:8080/"
        },
        "id": "IwZA8aBleJ7c",
        "outputId": "7f22daf4-1d76-4248-8a8f-ce1618d819d9"
      },
      "execution_count": 101,
      "outputs": [
        {
          "output_type": "execute_result",
          "data": {
            "text/plain": [
              "2"
            ]
          },
          "metadata": {},
          "execution_count": 101
        }
      ]
    },
    {
      "cell_type": "markdown",
      "source": [
        "### 6.1 Training Loop"
      ],
      "metadata": {
        "id": "Mmn06FNhOg7A"
      }
    },
    {
      "cell_type": "code",
      "source": [
        "l = []\n",
        "\n",
        "for i in range(steps):\n",
        "    yh = model(x_PDE)\n",
        "    loss = model.loss(x_PDE,x_BC) # use mean squared error\n",
        "    l.append(loss.item())\n",
        "    optimizer.zero_grad()\n",
        "    loss.backward()\n",
        "    optimizer.step()\n",
        "    if i%(steps/10)==0:\n",
        "      print(loss)"
      ],
      "metadata": {
        "colab": {
          "base_uri": "https://localhost:8080/"
        },
        "id": "OOuEEvNvOKmF",
        "outputId": "3cc00ab1-060f-41c2-cc46-327d90fac76b"
      },
      "execution_count": 102,
      "outputs": [
        {
          "output_type": "stream",
          "name": "stdout",
          "text": [
            "tensor(1.3697, grad_fn=<AddBackward0>)\n",
            "tensor(0.1971, grad_fn=<AddBackward0>)\n",
            "tensor(0.1140, grad_fn=<AddBackward0>)\n",
            "tensor(0.0936, grad_fn=<AddBackward0>)\n",
            "tensor(0.0773, grad_fn=<AddBackward0>)\n",
            "tensor(0.0639, grad_fn=<AddBackward0>)\n",
            "tensor(0.0553, grad_fn=<AddBackward0>)\n",
            "tensor(0.0488, grad_fn=<AddBackward0>)\n",
            "tensor(0.0383, grad_fn=<AddBackward0>)\n",
            "tensor(0.0197, grad_fn=<AddBackward0>)\n"
          ]
        }
      ]
    },
    {
      "cell_type": "markdown",
      "source": [
        "## 6. Plot Functions"
      ],
      "metadata": {
        "id": "NOnsGxH1h-Yq"
      }
    },
    {
      "cell_type": "code",
      "source": [
        "# Function\n",
        "yh=model(x.to(device))\n",
        "y=f_BC(x)"
      ],
      "metadata": {
        "id": "ejQAnlyaiDIB"
      },
      "execution_count": 103,
      "outputs": []
    },
    {
      "cell_type": "code",
      "source": [
        "len(yh)"
      ],
      "metadata": {
        "colab": {
          "base_uri": "https://localhost:8080/"
        },
        "id": "VHVSASegiKka",
        "outputId": "c6e66fe9-c571-4387-854a-d7a481dadb3a"
      },
      "execution_count": 104,
      "outputs": [
        {
          "output_type": "execute_result",
          "data": {
            "text/plain": [
              "500"
            ]
          },
          "metadata": {},
          "execution_count": 104
        }
      ]
    },
    {
      "cell_type": "code",
      "source": [
        "yh_=model(x_PDE.to(device))"
      ],
      "metadata": {
        "id": "bu2lS9xViDN9"
      },
      "execution_count": 105,
      "outputs": []
    },
    {
      "cell_type": "code",
      "source": [
        "len(yh_)"
      ],
      "metadata": {
        "colab": {
          "base_uri": "https://localhost:8080/"
        },
        "id": "QCGlC9i4iKQJ",
        "outputId": "d24d4455-2ae2-4c29-a9f6-1e015716722f"
      },
      "execution_count": 106,
      "outputs": [
        {
          "output_type": "execute_result",
          "data": {
            "text/plain": [
              "52"
            ]
          },
          "metadata": {},
          "execution_count": 106
        }
      ]
    },
    {
      "cell_type": "markdown",
      "source": [
        "## Error\n"
      ],
      "metadata": {
        "id": "L25ATO1aiGmw"
      }
    },
    {
      "cell_type": "code",
      "source": [
        "print(model.lossBC(x.to(device)))"
      ],
      "metadata": {
        "id": "ZKoGoEcsiJOW",
        "colab": {
          "base_uri": "https://localhost:8080/"
        },
        "outputId": "674cb272-7abb-4ae2-8191-a5817ceb2cef"
      },
      "execution_count": 107,
      "outputs": [
        {
          "output_type": "stream",
          "name": "stdout",
          "text": [
            "tensor(0.0068, grad_fn=<MseLossBackward0>)\n"
          ]
        }
      ]
    },
    {
      "cell_type": "markdown",
      "source": [
        "## Derivative"
      ],
      "metadata": {
        "id": "6a2CMkuZOnQq"
      }
    },
    {
      "cell_type": "code",
      "source": [
        "g=x.to(device)\n",
        "g=g.clone()\n",
        "g.requires_grad=True #Enable differentiation\n",
        "f=model(g)\n",
        "f_x=autograd.grad(f,g,torch.ones([g.shape[0],1]).to(device),retain_graph=True, create_graph=True)[0]"
      ],
      "metadata": {
        "id": "Z_8egvHbOj0V"
      },
      "execution_count": 108,
      "outputs": []
    },
    {
      "cell_type": "markdown",
      "source": [
        "### Detach from GPU"
      ],
      "metadata": {
        "id": "0oM6uaiViYdX"
      }
    },
    {
      "cell_type": "code",
      "source": [
        "y_plot=y.detach().numpy()\n",
        "yh_plot=yh.detach().cpu().numpy()\n",
        "f_x_plot=f_x.detach().cpu().numpy()"
      ],
      "metadata": {
        "id": "V6JLSVU2OrzM"
      },
      "execution_count": 109,
      "outputs": []
    },
    {
      "cell_type": "code",
      "source": [
        "print('x_PDE size = ', len(x_PDE))\n",
        "print('y_plot size = ', len(y_plot))\n",
        "print('yh_plot size = ', len(yh_plot))\n",
        "print('f_x_plot size = ', len(f_x_plot))"
      ],
      "metadata": {
        "colab": {
          "base_uri": "https://localhost:8080/"
        },
        "id": "r_hciXescPCp",
        "outputId": "e6b377d3-cf10-4dbe-a123-09435273aa0f"
      },
      "execution_count": 110,
      "outputs": [
        {
          "output_type": "stream",
          "name": "stdout",
          "text": [
            "x_PDE size =  52\n",
            "y_plot size =  500\n",
            "yh_plot size =  500\n",
            "f_x_plot size =  500\n"
          ]
        }
      ]
    },
    {
      "cell_type": "markdown",
      "source": [
        "## 7. Plot Results"
      ],
      "metadata": {
        "id": "qyXasn-WO5zo"
      }
    },
    {
      "cell_type": "code",
      "source": [
        "plt.plot(l)\n",
        "plt.xlabel('Number of iterations', fontsize = 12)\n",
        "plt.ylabel('Loss', fontsize = 12)\n",
        "plt.title('Loss Function over iterations', fontsize = 18)\n",
        "plt.grid()"
      ],
      "metadata": {
        "colab": {
          "base_uri": "https://localhost:8080/",
          "height": 302
        },
        "id": "Cb4f7lPMDqte",
        "outputId": "6a0f9adb-3be2-4b53-b6a8-2ea88c483088"
      },
      "execution_count": 111,
      "outputs": [
        {
          "output_type": "display_data",
          "data": {
            "text/plain": [
              "<Figure size 432x288 with 1 Axes>"
            ],
            "image/png": "[encoded data removed]"
          },
          "metadata": {
            "needs_background": "light"
          }
        }
      ]
    },
    {
      "cell_type": "code",
      "source": [
        "fig, ax1 = plt.subplots()\n",
        "ax1.plot(x,y_plot,color='blue',label='Real')\n",
        "ax1.plot(x,yh_plot,color='red',label='Predicted')\n",
        "#ax1.plot(x,f_x_plot,color='green',label='Derivative')\n",
        "\n",
        "ax1.scatter(x_PDE.detach().numpy(),y_PDE.detach().numpy(),color='red',label='Training Points')\n",
        "ax1.scatter(x_PDE.detach().cpu().numpy(),yh_.detach().cpu().numpy(),color='violet',label='Output')\n",
        "\n",
        "ax1.set_xlabel('x',color='black')\n",
        "ax1.set_ylabel('f(x)',color='black')\n",
        "ax1.tick_params(axis='y', color='black')\n",
        "ax1.legend(loc = 'upper left')\n",
        "ax1.grid()"
      ],
      "metadata": {
        "id": "F7VYZn23O4M8",
        "colab": {
          "base_uri": "https://localhost:8080/",
          "height": 279
        },
        "outputId": "e565c3c9-1f02-489f-dd7b-a0883d14b46d"
      },
      "execution_count": 112,
      "outputs": [
        {
          "output_type": "display_data",
          "data": {
            "text/plain": [
              "<Figure size 432x288 with 1 Axes>"
            ],
            "image/png": "[encoded data removed]"
          },
          "metadata": {
            "needs_background": "light"
          }
        }
      ]
    },
    {
      "cell_type": "code",
      "source": [
        "fig, (ax1, ax2) = plt.subplots(1, 2, figsize=(20, 5))\n",
        "\n",
        "ax1.plot(x,y_plot,color='blue',label='Real')\n",
        "ax1.plot(x,yh_plot,color='red',label='Predicted')\n",
        "#ax1.plot(x,f_x_plot,color='green',label='Derivative')\n",
        "ax1.scatter(x_PDE.detach().numpy(),y_PDE.detach().numpy(),color='red',label='Training Points')\n",
        "ax1.scatter(x_PDE.detach().cpu().numpy(),yh_.detach().cpu().numpy(),color='violet',label='Output')\n",
        "\n",
        "ax1.set_xlabel('x',color='black')\n",
        "ax1.set_ylabel('f(x)',color='black')\n",
        "ax1.tick_params(axis='y', color='black')\n",
        "ax1.legend(loc = 'upper left')\n",
        "ax1.grid()\n",
        "\n",
        "##############\n",
        "ax2.plot(l)\n",
        "ax2.set_xlabel('Number of iterations', fontsize = 12)\n",
        "ax2.set_ylabel('Loss', fontsize = 12)\n",
        "ax2.set_title('Loss Function over iterations', fontsize = 18)\n",
        "ax2.grid()"
      ],
      "metadata": {
        "colab": {
          "base_uri": "https://localhost:8080/",
          "height": 357
        },
        "id": "j1n2AYSzCPfy",
        "outputId": "b1195997-5053-4466-b974-d410731fe137"
      },
      "execution_count": 113,
      "outputs": [
        {
          "output_type": "display_data",
          "data": {
            "text/plain": [
              "<Figure size 1440x360 with 2 Axes>"
            ],
            "image/png": "[encoded data removed]"
          },
          "metadata": {
            "needs_background": "light"
          }
        }
      ]
    }
  ]
}