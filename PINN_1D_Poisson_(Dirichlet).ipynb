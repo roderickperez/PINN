{
  "nbformat": 4,
  "nbformat_minor": 0,
  "metadata": {
    "colab": {
      "name": "PINN_1D_Poisson_(Dirichlet).ipynb",
      "provenance": [],
      "toc_visible": true,
      "authorship_tag": "ABX9TyPVgL/wHeSRTSKVGkWVug9Z",
      "include_colab_link": true
    },
    "kernelspec": {
      "name": "python3",
      "display_name": "Python 3"
    },
    "language_info": {
      "name": "python"
    },
    "accelerator": "GPU"
  },
  "cells": [
    {
      "cell_type": "markdown",
      "metadata": {
        "id": "view-in-github",
        "colab_type": "text"
      },
      "source": [
        "<a href=\"https://colab.research.google.com/github/roderickperez/PINN/blob/master/PINN_1D_Poisson_(Dirichlet).ipynb\" target=\"_parent\"><img src=\"https://colab.research.google.com/assets/colab-badge.svg\" alt=\"Open In Colab\"/></a>"
      ]
    },
    {
      "cell_type": "markdown",
      "source": [
        "# PINN\n",
        "Tutorial 3: Poisson (1D) Dirichlet | Juan Toscano (Github: jdtoscano94)\n",
        "\n",
        "https://github.com/jdtoscano94/Learning-PINNs-in-Pytorch-Physics-Informed-Machine-Learning/blob/main/3_Poisson1D_Dirichlet.ipynb"
      ],
      "metadata": {
        "id": "SYyyqCcPIBYu"
      }
    },
    {
      "cell_type": "markdown",
      "source": [
        "## 0. Install Libraries"
      ],
      "metadata": {
        "id": "D2MNFuKLJlAF"
      }
    },
    {
      "cell_type": "code",
      "source": [
        "! pip install pyDOE"
      ],
      "metadata": {
        "colab": {
          "base_uri": "https://localhost:8080/"
        },
        "id": "dwW7CHsTJnHt",
        "outputId": "13b70a55-5b11-40f6-83e3-023b372af968"
      },
      "execution_count": 1,
      "outputs": [
        {
          "output_type": "stream",
          "name": "stdout",
          "text": [
            "Looking in indexes: https://pypi.org/simple, https://us-python.pkg.dev/colab-wheels/public/simple/\n",
            "Collecting pyDOE\n",
            "  Downloading pyDOE-0.3.8.zip (22 kB)\n",
            "Requirement already satisfied: numpy in /usr/local/lib/python3.7/dist-packages (from pyDOE) (1.21.6)\n",
            "Requirement already satisfied: scipy in /usr/local/lib/python3.7/dist-packages (from pyDOE) (1.4.1)\n",
            "Building wheels for collected packages: pyDOE\n",
            "  Building wheel for pyDOE (setup.py) ... \u001b[?25l\u001b[?25hdone\n",
            "  Created wheel for pyDOE: filename=pyDOE-0.3.8-py3-none-any.whl size=18184 sha256=2db703c498836ea006485cb63b0dbaaab046d9234ae33d627dbc9ddc0fef1d2a\n",
            "  Stored in directory: /root/.cache/pip/wheels/83/ce/8a/87b25c685bfeca1872d13b8dc101e087a9c6e3fb5ebb47022a\n",
            "Successfully built pyDOE\n",
            "Installing collected packages: pyDOE\n",
            "Successfully installed pyDOE-0.3.8\n"
          ]
        }
      ]
    },
    {
      "cell_type": "markdown",
      "source": [
        "## 1. Import Libraries"
      ],
      "metadata": {
        "id": "vY_m4ArKJi68"
      }
    },
    {
      "cell_type": "code",
      "execution_count": 2,
      "metadata": {
        "id": "12FPCeSnH0PM"
      },
      "outputs": [],
      "source": [
        "import torch\n",
        "import torch.autograd as autograd         # computation graph\n",
        "from torch import Tensor                  # tensor node in the computation graph\n",
        "import torch.nn as nn                     # neural networks\n",
        "import torch.optim as optim               # optimizers e.g. gradient descent, ADAM, etc."
      ]
    },
    {
      "cell_type": "code",
      "source": [
        "import matplotlib.pyplot as plt\n",
        "import matplotlib.gridspec as gridspec\n",
        "from mpl_toolkits.axes_grid1 import make_axes_locatable\n",
        "from mpl_toolkits.mplot3d import Axes3D\n",
        "import matplotlib.ticker\n",
        "from sklearn.model_selection import train_test_split\n",
        "\n",
        "import numpy as np\n",
        "import time\n",
        "from pyDOE import lhs         #Latin Hypercube Sampling\n",
        "import scipy.io"
      ],
      "metadata": {
        "id": "EKHxoqTEJtqm"
      },
      "execution_count": 3,
      "outputs": []
    },
    {
      "cell_type": "markdown",
      "source": [
        "## 2. Setup parameters and constants"
      ],
      "metadata": {
        "id": "3oYc_W7VJzIZ"
      }
    },
    {
      "cell_type": "code",
      "source": [
        "#Set default dtype to float32\n",
        "torch.set_default_dtype(torch.float)\n",
        "\n",
        "#PyTorch random number generator\n",
        "torch.manual_seed(1234)\n",
        "\n",
        "# Random number generators in other libraries\n",
        "np.random.seed(1234)\n",
        "\n",
        "# Device configuration\n",
        "device = torch.device('cuda' if torch.cuda.is_available() else 'cpu')\n",
        "\n",
        "print(device)\n",
        "\n",
        "if device == 'cuda': \n",
        "    print(torch.cuda.get_device_name())"
      ],
      "metadata": {
        "colab": {
          "base_uri": "https://localhost:8080/"
        },
        "id": "T53K5vIKJwaG",
        "outputId": "2c663b5a-a4f1-4ab9-d699-f228ffbc92b5"
      },
      "execution_count": 4,
      "outputs": [
        {
          "output_type": "stream",
          "name": "stdout",
          "text": [
            "cpu\n"
          ]
        }
      ]
    },
    {
      "cell_type": "code",
      "source": [
        "steps = 100\n",
        "lr = 1e-3\n",
        "\n",
        "layers = np.array([1,50,50,20,50,50,1]) #5 hidden layers\n",
        "min=-1\n",
        "max=1\n",
        "total_points=500\n",
        "#Nu: Number of training points (2 as we only have 2 boundaries), # Nf: Number of collocation points (Evaluate PDE)\n",
        "Nu = 2\n",
        "Nf = 50"
      ],
      "metadata": {
        "id": "Df6HMEAGJ6pK"
      },
      "execution_count": 38,
      "outputs": []
    },
    {
      "cell_type": "markdown",
      "source": [
        "## 3. Define Function"
      ],
      "metadata": {
        "id": "D-Z_Y9k9KG2o"
      }
    },
    {
      "cell_type": "markdown",
      "source": [
        "###  Laplace Operator ($\\nabla^{2}$)\n",
        "\n",
        "What function has as a derivative $cos(X)$?\n",
        "\n",
        "$$ \\nabla = u_{xx}+u_{yy} = \\frac{\\partial^2 u}{\\partial x^2}+\\frac{\\partial^2 u}{\\partial y^2} $$\n",
        "\n",
        "**Harmonic Functions**\n",
        "\n",
        "$$ \\nabla u = 0$$\n",
        "\n",
        "Since they are smooth. Boundary conditions: rate or the value. It is necessary to solve all the problems at the same time.\n",
        "\n",
        "**Poisson Equation**\n",
        "$$ \\nabla u = f(x)$$\n",
        "\n",
        "**Problem**\n",
        "\n",
        "For the case that\n",
        "\n",
        "$$ - \\nabla u = \\pi^2sin(\\pi x)$$\n",
        "\n",
        "**Boundary Conditions**\n",
        "\n",
        "$$ u(-1) = 0$$\n",
        "\n",
        "$$ u(0) = 0$$\n",
        "\n",
        "**Exact solution**\n",
        "\n",
        "$$u(x) = sin(\\pi x)$$\n",
        "\n",
        "**PDE**\n",
        "\n",
        "$$ - \\nabla u = \\pi^2sin(\\pi x)$$\n",
        "\n",
        "$$ u_{xx} = - \\pi^2 sin(\\pi x)$$\n",
        "\n",
        "$$ \\frac{\\partial ^2 u}{\\partial x^2} = - \\pi^2 sin(\\pi x)$$\n",
        "\n",
        "Residuals:\n",
        "\n",
        "$$0 = \\frac{\\partial ^2 u}{\\partial x^2}+\\pi^2 sin(\\pi x)$$\n",
        "\n",
        "Note: $NN(X) \\approx u(x)$ so:\n",
        "\n",
        "$$\\frac{\\partial ^2 NN}{\\partial x^2}\\approx \\frac{\\partial ^2 u}{\\partial x^2}$$\n",
        "\n",
        "therefore,\n",
        "\n",
        "$$f = \\frac{\\partial ^2 NN}{\\partial x^2}+\\pi^2 sin(\\pi x) → 0$$\n",
        "\n",
        "**Initial Conditions (Direchlet BC)**\n",
        "\n",
        "$$ u(-1) = 0$$\n",
        "\n",
        "$$ u(0) = 0$$\n",
        "\n",
        "A function that describe the boundary conditions:\n",
        "$$f_{BC} = 1 - \\left | x \\right |$$\n",
        "\n",
        "---\n",
        "\n",
        "Note \n",
        "$f_{BC}$ is not the answer to our PDE, but it helps us describe the boundary condition (Generate data)."
      ],
      "metadata": {
        "id": "wv8dR_L_RcXM"
      }
    },
    {
      "cell_type": "markdown",
      "source": [
        "This function satisfies the boundry conditions. The same as the real one (To ease the data generation), but we may not have it."
      ],
      "metadata": {
        "id": "1kQLpCMueieF"
      }
    },
    {
      "cell_type": "code",
      "source": [
        "def f_BC(x):\n",
        "  return 1-torch.abs(x)"
      ],
      "metadata": {
        "id": "5Q6oIuMlKEim"
      },
      "execution_count": 39,
      "outputs": []
    },
    {
      "cell_type": "code",
      "source": [
        "def f_real(x):\n",
        "  return torch.sin(np.pi*x)"
      ],
      "metadata": {
        "id": "puT3jwPCnj4m"
      },
      "execution_count": 40,
      "outputs": []
    },
    {
      "cell_type": "markdown",
      "source": [
        "The PDE equation is used to get the residual in the Neural Network."
      ],
      "metadata": {
        "id": "O_19QSAjVL6B"
      }
    },
    {
      "cell_type": "code",
      "source": [
        "def PDE(x):\n",
        "  return -1*(np.pi**2)*torch.sin(np.pi*x)"
      ],
      "metadata": {
        "id": "0nD4_DnhVK11"
      },
      "execution_count": 41,
      "outputs": []
    },
    {
      "cell_type": "markdown",
      "source": [
        "## 4. Define Network Architecture\n",
        "\n",
        "Following the PyTorch Network Architecture\n",
        "```python\n",
        "class networkName(nn.Module):\n",
        "\n",
        "    def __init__(self, ...):\n",
        "        super(networkName, self).__init__()\n",
        "        # Define Network layers\n",
        "        self.layer1 = nn.XXXX(...)\n",
        "        self.layer2 = nn.XXXX(...)\n",
        "        ...\n",
        "        self.layern = nn.XXXX(...)\n",
        "\n",
        "    def forward(self, x):\n",
        "        out = self.layer1\n",
        "        out = self.layer2\n",
        "        ...\n",
        "        out = self.layern\n",
        "\n",
        "        return out\n",
        "\n",
        "# Call the model\n",
        "model = networkName(...)\n",
        "\n",
        "# Define loss\n",
        "loss = nn.XXXLoss()\n",
        "```\n",
        "\n",
        "In this case, we will follow the following architecture:\n",
        "\n",
        "*   Activation Function: tanh\n",
        "*   Loss Function: MSE\n",
        "*   Initialise neural network as a list using `nn.Modulelist()`\n"
      ],
      "metadata": {
        "id": "xtjA2SNEKRb8"
      }
    },
    {
      "cell_type": "code",
      "source": [
        "class FCN(nn.Module):\n",
        "    ##Neural Network\n",
        "    def __init__(self,layers):\n",
        "        super().__init__() #call __init__ from parent class \n",
        "        'activation function'\n",
        "        self.activation = nn.Tanh()\n",
        "        'loss function'\n",
        "        self.loss_function = nn.MSELoss(reduction ='mean')\n",
        "        'Initialise neural network as a list using nn.Modulelist'  \n",
        "        self.linears = nn.ModuleList([nn.Linear(layers[i], layers[i+1]) for i in range(len(layers)-1)]) \n",
        "        self.iter = 0\n",
        "        'Xavier Normal Initialization'\n",
        "        # std = gain * sqrt(2/(input_dim+output_dim))\n",
        "        for i in range(len(layers)-1):\n",
        "            \n",
        "            # weights from a normal distribution with \n",
        "            # Recommended gain value for tanh = 5/3?\n",
        "            nn.init.xavier_normal_(self.linears[i].weight.data, gain=1.0)\n",
        "            \n",
        "            # set biases to zero\n",
        "            nn.init.zeros_(self.linears[i].bias.data)   \n",
        "\n",
        "    'foward pass'\n",
        "    def forward(self,x):\n",
        "        if torch.is_tensor(x) != True:         \n",
        "            x = torch.from_numpy(x)                \n",
        "        a = x.float()\n",
        "        for i in range(len(layers)-2):  \n",
        "            z = self.linears[i](a)              \n",
        "            a = self.activation(z)    \n",
        "        a = self.linears[-1](a)\n",
        "        return a\n",
        "    'Loss Functions'\n",
        "    #Loss BC\n",
        "    def lossBC(self,x_BC,y_BC):\n",
        "      loss_BC=self.loss_function(self.forward(x_BC),y_BC)\n",
        "      return loss_BC\n",
        "    #Loss PDE\n",
        "    def lossPDE(self,x_PDE):\n",
        "      g=x_PDE.clone()\n",
        "      g.requires_grad=True #Enable differentiation\n",
        "      f=self.forward(g)\n",
        "      f_x=autograd.grad(f,g,torch.ones([x_PDE.shape[0],1]).to(device),retain_graph=True, create_graph=True)[0] #first derivative\n",
        "      f_xx=autograd.grad(f_x,g,torch.ones([x_PDE.shape[0],1]).to(device), create_graph=True)[0]#second derivative\n",
        "      return self.loss_function(f_xx,PDE(g))\n",
        "      \n",
        "    def loss(self,x_BC,y_BC,x_PDE):\n",
        "      loss_bc=self.lossBC(x_BC,y_BC)\n",
        "      loss_pde=self.lossPDE(x_PDE)\n",
        "      return loss_bc+loss_pde"
      ],
      "metadata": {
        "id": "9xvbzu3BKKHV"
      },
      "execution_count": 42,
      "outputs": []
    },
    {
      "cell_type": "markdown",
      "source": [
        "## 5. Data\n",
        "\n",
        "Generate the analytical solution over the full domain"
      ],
      "metadata": {
        "id": "wvFXtytlNdIK"
      }
    },
    {
      "cell_type": "code",
      "source": [
        "x = torch.linspace(min,max,total_points).view(-1,1) #prepare to NN\n",
        "y = f_real(x)\n",
        "print(x.shape, y.shape)"
      ],
      "metadata": {
        "colab": {
          "base_uri": "https://localhost:8080/"
        },
        "id": "J_6QkhEtNabH",
        "outputId": "3fee7b21-a40a-410e-ac00-90866fab5a62"
      },
      "execution_count": 43,
      "outputs": [
        {
          "output_type": "stream",
          "name": "stdout",
          "text": [
            "torch.Size([500, 1]) torch.Size([500, 1])\n"
          ]
        }
      ]
    },
    {
      "cell_type": "markdown",
      "source": [
        "### Plot Results"
      ],
      "metadata": {
        "id": "an4eSgkWNo28"
      }
    },
    {
      "cell_type": "code",
      "source": [
        "fig, ax1 = plt.subplots()\n",
        "ax1.plot(x.detach().numpy(),y.detach().numpy(),color='blue',label='Real_Train')\n",
        "#ax1.plot(x_train.detach().numpy(),yh.detach().numpy(),color='red',label='Pred_Train')\n",
        "ax1.set_xlabel('x',color='black')\n",
        "ax1.set_ylabel('f(x)',color='black')\n",
        "ax1.tick_params(axis='y', color='black')\n",
        "ax1.grid()\n",
        "ax1.legend(loc = 'upper left')"
      ],
      "metadata": {
        "colab": {
          "base_uri": "https://localhost:8080/",
          "height": 297
        },
        "id": "8ZfTOXOYNmDY",
        "outputId": "80e84163-743b-4447-ecf5-2fb03b01ed99"
      },
      "execution_count": 44,
      "outputs": [
        {
          "output_type": "execute_result",
          "data": {
            "text/plain": [
              "<matplotlib.legend.Legend at 0x7f9a66289250>"
            ]
          },
          "metadata": {},
          "execution_count": 44
        },
        {
          "output_type": "display_data",
          "data": {
            "text/plain": [
              "<Figure size 432x288 with 1 Axes>"
            ],
            "image/png": "[encoded data removed]"
          },
          "metadata": {
            "needs_background": "light"
          }
        }
      ]
    },
    {
      "cell_type": "markdown",
      "source": [
        "### Set Boundary conditions:\n"
      ],
      "metadata": {
        "id": "gOrdi6TMXDAF"
      }
    },
    {
      "cell_type": "code",
      "source": [
        "BC_1=x[0,:]\n",
        "BC_2=x[-1,:]"
      ],
      "metadata": {
        "id": "SJuJ_i_rXER1"
      },
      "execution_count": 45,
      "outputs": []
    },
    {
      "cell_type": "code",
      "source": [
        "print('Location in x of Boundary Condition 1: ', BC_1.item())"
      ],
      "metadata": {
        "colab": {
          "base_uri": "https://localhost:8080/"
        },
        "id": "ZtvF0LH-kGAB",
        "outputId": "2d4e662c-9b1b-4f87-faf5-851995d9c170"
      },
      "execution_count": 46,
      "outputs": [
        {
          "output_type": "stream",
          "name": "stdout",
          "text": [
            "Location in x of Boundary Condition 1:  -1.0\n"
          ]
        }
      ]
    },
    {
      "cell_type": "code",
      "source": [
        "print('Location in x of Boundary Condition 2: ', BC_2.item())"
      ],
      "metadata": {
        "colab": {
          "base_uri": "https://localhost:8080/"
        },
        "id": "JXgt6p1PkG11",
        "outputId": "cf02fce2-4c87-4259-e0ee-40801ef8730d"
      },
      "execution_count": 47,
      "outputs": [
        {
          "output_type": "stream",
          "name": "stdout",
          "text": [
            "Location in x of Boundary Condition 2:  1.0\n"
          ]
        }
      ]
    },
    {
      "cell_type": "markdown",
      "source": [
        "### Total Training points\n",
        "$$total = BC_{1}+BC_{2}$$\n"
      ],
      "metadata": {
        "id": "gH0H6-sZXLig"
      }
    },
    {
      "cell_type": "code",
      "source": [
        "all_train=torch.vstack([BC_1,BC_2])"
      ],
      "metadata": {
        "id": "dVueQkOxXMuA"
      },
      "execution_count": 48,
      "outputs": []
    },
    {
      "cell_type": "code",
      "source": [
        "print('Total Boundary Condition Points: ', len(all_train))"
      ],
      "metadata": {
        "colab": {
          "base_uri": "https://localhost:8080/"
        },
        "id": "4nZiLltWkLdo",
        "outputId": "7410abba-1b7a-49a0-e9bc-08ebfea51b7d"
      },
      "execution_count": 49,
      "outputs": [
        {
          "output_type": "stream",
          "name": "stdout",
          "text": [
            "Total Boundary Condition Points:  2\n"
          ]
        }
      ]
    },
    {
      "cell_type": "markdown",
      "source": [
        "### Select Nu points\n"
      ],
      "metadata": {
        "id": "wv4mgBGzXaA3"
      }
    },
    {
      "cell_type": "code",
      "source": [
        "idx = np.random.choice(all_train.shape[0], Nu, replace=False) \n",
        "x_BC=all_train[idx]"
      ],
      "metadata": {
        "id": "jhutBnqvXbzt"
      },
      "execution_count": 50,
      "outputs": []
    },
    {
      "cell_type": "code",
      "source": [
        "print('Total Boundary Condition Points: ', len(x_BC))"
      ],
      "metadata": {
        "colab": {
          "base_uri": "https://localhost:8080/"
        },
        "id": "ytFuPVGCkSqW",
        "outputId": "df466627-a5e2-4fb3-9f09-4a42dd76604c"
      },
      "execution_count": 51,
      "outputs": [
        {
          "output_type": "stream",
          "name": "stdout",
          "text": [
            "Total Boundary Condition Points:  2\n"
          ]
        }
      ]
    },
    {
      "cell_type": "code",
      "source": [
        "# Evaluate the Boundary Conditions in Function\n",
        "x_BC=f_BC(x_BC).to(device)"
      ],
      "metadata": {
        "id": "fZZ5fQXakX2r"
      },
      "execution_count": 52,
      "outputs": []
    },
    {
      "cell_type": "code",
      "source": [
        "print('Result of Evaluate Boundary Condition 1: ', x_BC[0].item())\n",
        "print('Result of Evaluate Boundary Condition 2: ', x_BC[1].item())"
      ],
      "metadata": {
        "colab": {
          "base_uri": "https://localhost:8080/"
        },
        "id": "-ToSeObHkZvR",
        "outputId": "46c21366-bf41-4cca-af37-1b9a9e168b46"
      },
      "execution_count": 53,
      "outputs": [
        {
          "output_type": "stream",
          "name": "stdout",
          "text": [
            "Result of Evaluate Boundary Condition 1:  0.0\n",
            "Result of Evaluate Boundary Condition 2:  0.0\n"
          ]
        }
      ]
    },
    {
      "cell_type": "code",
      "source": [
        "fig, ax1 = plt.subplots()\n",
        "ax1.plot(x.detach().numpy(),y.detach().numpy(),color='blue',label='Real_Train')\n",
        "ax1.scatter(BC_1.detach().numpy(),x_BC[0],color='red',label='Bound Con 1')\n",
        "ax1.scatter(BC_2.detach().numpy(),x_BC[1],color='green',label='Bound Con 2')\n",
        "ax1.set_xlabel('x',color='black')\n",
        "ax1.set_ylabel('f(x)',color='black')\n",
        "ax1.tick_params(axis='y', color='black')\n",
        "ax1.grid()\n",
        "ax1.legend(loc = 'upper left')"
      ],
      "metadata": {
        "colab": {
          "base_uri": "https://localhost:8080/",
          "height": 297
        },
        "id": "bGCs5l0ykhyV",
        "outputId": "bc7b9d32-8dc5-489f-d51e-97ca0ed8f3cf"
      },
      "execution_count": 54,
      "outputs": [
        {
          "output_type": "execute_result",
          "data": {
            "text/plain": [
              "<matplotlib.legend.Legend at 0x7f9a660dae10>"
            ]
          },
          "metadata": {},
          "execution_count": 54
        },
        {
          "output_type": "display_data",
          "data": {
            "text/plain": [
              "<Figure size 432x288 with 1 Axes>"
            ],
            "image/png": "[encoded data removed]"
          },
          "metadata": {
            "needs_background": "light"
          }
        }
      ]
    },
    {
      "cell_type": "markdown",
      "source": [
        "### Select Nf points\n",
        "Latin Hypercube sampling for collocation points "
      ],
      "metadata": {
        "id": "HKVa6HZBXdKs"
      }
    },
    {
      "cell_type": "code",
      "source": [
        "# Positions in X to evaluate (Nf + BC)\n",
        "x_PDE = BC_1 + (BC_2-BC_1)*lhs(1,Nf)\n",
        "x_PDE = torch.vstack((x_PDE,x_BC))"
      ],
      "metadata": {
        "id": "UtT0sOlkXjIy"
      },
      "execution_count": 55,
      "outputs": []
    },
    {
      "cell_type": "markdown",
      "source": [
        "Data points\n",
        "\n",
        "`Nf` is the number of collocation points, corresponding to the number of points to evaluate the function."
      ],
      "metadata": {
        "id": "eWnErbe3XmgL"
      }
    },
    {
      "cell_type": "code",
      "source": [
        "print('Total Evaluation Points (X): ', x_PDE.shape[0])"
      ],
      "metadata": {
        "colab": {
          "base_uri": "https://localhost:8080/"
        },
        "id": "RrRK8zbBktTl",
        "outputId": "0e8affb2-79f9-4b3f-9bf8-9bac2bf75645"
      },
      "execution_count": 56,
      "outputs": [
        {
          "output_type": "stream",
          "name": "stdout",
          "text": [
            "Total Evaluation Points (X):  52\n"
          ]
        }
      ]
    },
    {
      "cell_type": "code",
      "source": [
        "# Evaluate the Boundary Conditions in Function\n",
        "y_DC = f_BC(x_PDE).to(device)"
      ],
      "metadata": {
        "id": "JZzBsV4Wk5No"
      },
      "execution_count": 63,
      "outputs": []
    },
    {
      "cell_type": "code",
      "source": [
        "# Evaluate training points in Real Function\n",
        "y_real = f_real(x_PDE).to(device)"
      ],
      "metadata": {
        "id": "VLd1EnD1leNN"
      },
      "execution_count": 64,
      "outputs": []
    },
    {
      "cell_type": "code",
      "source": [
        "print('Total Evaluated BC Points (Y): ', len(y_DC))\n",
        "print('Total Evaluated Real Function Points (Y): ', len(y_real))"
      ],
      "metadata": {
        "colab": {
          "base_uri": "https://localhost:8080/"
        },
        "id": "OF0H_Ax6k6zu",
        "outputId": "0800b07e-0175-4b51-dafd-53237b0e2dc6"
      },
      "execution_count": 65,
      "outputs": [
        {
          "output_type": "stream",
          "name": "stdout",
          "text": [
            "Total Evaluated BC Points (Y):  52\n",
            "Total Evaluated Real Function Points (Y):  52\n"
          ]
        }
      ]
    },
    {
      "cell_type": "code",
      "source": [
        "fig, ax1 = plt.subplots()\n",
        "ax1.plot(x.detach().numpy(),y.detach().numpy(),color='blue',label='Real_Train')\n",
        "ax1.scatter(x_PDE.detach().numpy(),y_DC.detach().numpy(),color='green',label='BC Training')\n",
        "ax1.scatter(x_PDE.detach().numpy(),y_real.detach().numpy(),color='red',label='Real Funct Training')\n",
        "ax1.set_xlabel('x',color='black')\n",
        "ax1.set_ylabel('f(x)',color='black')\n",
        "ax1.tick_params(axis='y', color='black')\n",
        "ax1.grid()\n",
        "ax1.legend(loc = 'upper left')"
      ],
      "metadata": {
        "colab": {
          "base_uri": "https://localhost:8080/",
          "height": 297
        },
        "id": "O6be7BUuk_qM",
        "outputId": "8289de01-c859-4132-e73d-0cd620336484"
      },
      "execution_count": 68,
      "outputs": [
        {
          "output_type": "execute_result",
          "data": {
            "text/plain": [
              "<matplotlib.legend.Legend at 0x7f9a6621aed0>"
            ]
          },
          "metadata": {},
          "execution_count": 68
        },
        {
          "output_type": "display_data",
          "data": {
            "text/plain": [
              "<Figure size 432x288 with 1 Axes>"
            ],
            "image/png": "[encoded data removed]"
          },
          "metadata": {
            "needs_background": "light"
          }
        }
      ]
    },
    {
      "cell_type": "code",
      "source": [
        "x_PDE.shape"
      ],
      "metadata": {
        "colab": {
          "base_uri": "https://localhost:8080/"
        },
        "id": "qefBrTkAXk2p",
        "outputId": "910ea0a8-ef47-4b26-a8ed-2453f8d3e624"
      },
      "execution_count": 57,
      "outputs": [
        {
          "output_type": "execute_result",
          "data": {
            "text/plain": [
              "torch.Size([52, 1])"
            ]
          },
          "metadata": {},
          "execution_count": 57
        }
      ]
    },
    {
      "cell_type": "code",
      "source": [
        "y_BC=f_BC(x_BC).to(device)"
      ],
      "metadata": {
        "id": "KhQzeYNSolYa"
      },
      "execution_count": 58,
      "outputs": []
    },
    {
      "cell_type": "markdown",
      "source": [
        "## 6. Train Network"
      ],
      "metadata": {
        "id": "0lRIQyegOEVj"
      }
    },
    {
      "cell_type": "code",
      "source": [
        "# Prepare model\n",
        "torch.manual_seed(123)\n",
        "x_PDE=x_PDE.float().to(device)\n",
        "x_BC=x_BC.to(device)"
      ],
      "metadata": {
        "id": "rHjzuynzOC-V"
      },
      "execution_count": 18,
      "outputs": []
    },
    {
      "cell_type": "code",
      "source": [
        "# Create Model and Show Summary\n",
        "model = FCN(layers)\n",
        "model.to(device)\n",
        "\n",
        "print(model)"
      ],
      "metadata": {
        "colab": {
          "base_uri": "https://localhost:8080/"
        },
        "id": "-B6c7SssOXX3",
        "outputId": "a6446f9a-c386-44c1-e399-4cf34dee93d7"
      },
      "execution_count": 19,
      "outputs": [
        {
          "output_type": "stream",
          "name": "stdout",
          "text": [
            "FCN(\n",
            "  (activation): Tanh()\n",
            "  (loss_function): MSELoss()\n",
            "  (linears): ModuleList(\n",
            "    (0): Linear(in_features=1, out_features=50, bias=True)\n",
            "    (1): Linear(in_features=50, out_features=50, bias=True)\n",
            "    (2): Linear(in_features=50, out_features=20, bias=True)\n",
            "    (3): Linear(in_features=20, out_features=50, bias=True)\n",
            "    (4): Linear(in_features=50, out_features=50, bias=True)\n",
            "    (5): Linear(in_features=50, out_features=1, bias=True)\n",
            "  )\n",
            ")\n"
          ]
        }
      ]
    },
    {
      "cell_type": "code",
      "source": [
        "params = list(model.parameters())\n",
        "optimizer = torch.optim.Adam(model.parameters(),lr=lr,amsgrad=False)\n",
        "start_time = time.time()"
      ],
      "metadata": {
        "id": "gQCW6QERfLzG"
      },
      "execution_count": 20,
      "outputs": []
    },
    {
      "cell_type": "code",
      "source": [
        "model.lossBC(x_BC,y_BC)"
      ],
      "metadata": {
        "colab": {
          "base_uri": "https://localhost:8080/"
        },
        "id": "u9oOJqRDpUgx",
        "outputId": "73cff25e-cab1-428e-c9f2-f15da71a8ce2"
      },
      "execution_count": 21,
      "outputs": [
        {
          "output_type": "execute_result",
          "data": {
            "text/plain": [
              "tensor(0.0160, grad_fn=<MseLossBackward0>)"
            ]
          },
          "metadata": {},
          "execution_count": 21
        }
      ]
    },
    {
      "cell_type": "markdown",
      "source": [
        "### 6.1 Training Loop"
      ],
      "metadata": {
        "id": "Mmn06FNhOg7A"
      }
    },
    {
      "cell_type": "code",
      "source": [
        "l = []\n",
        "\n",
        "for i in range(steps):\n",
        "    yh = model(x_PDE)\n",
        "    loss = model.loss(x_BC,y_BC,x_PDE)# use mean squared error\n",
        "    l.append(loss.item())\n",
        "    optimizer.zero_grad()\n",
        "    loss.backward()\n",
        "    optimizer.step()\n",
        "    if i%(steps/10)==0:\n",
        "      print(loss)"
      ],
      "metadata": {
        "colab": {
          "base_uri": "https://localhost:8080/"
        },
        "id": "OOuEEvNvOKmF",
        "outputId": "411656ba-3394-4850-b9d8-877082afb901"
      },
      "execution_count": 22,
      "outputs": [
        {
          "output_type": "stream",
          "name": "stdout",
          "text": [
            "tensor(47.8740, grad_fn=<AddBackward0>)\n",
            "tensor(30.7291, grad_fn=<AddBackward0>)\n",
            "tensor(18.1121, grad_fn=<AddBackward0>)\n",
            "tensor(13.7264, grad_fn=<AddBackward0>)\n",
            "tensor(11.5135, grad_fn=<AddBackward0>)\n",
            "tensor(9.4213, grad_fn=<AddBackward0>)\n",
            "tensor(6.5952, grad_fn=<AddBackward0>)\n",
            "tensor(3.5637, grad_fn=<AddBackward0>)\n",
            "tensor(1.1808, grad_fn=<AddBackward0>)\n",
            "tensor(0.2400, grad_fn=<AddBackward0>)\n"
          ]
        }
      ]
    },
    {
      "cell_type": "markdown",
      "source": [
        "## 6. Plot Functions"
      ],
      "metadata": {
        "id": "NOnsGxH1h-Yq"
      }
    },
    {
      "cell_type": "code",
      "source": [
        "# Function\n",
        "yh=model(x.to(device))\n",
        "y=f_real(x)"
      ],
      "metadata": {
        "id": "ejQAnlyaiDIB"
      },
      "execution_count": 23,
      "outputs": []
    },
    {
      "cell_type": "code",
      "source": [
        "yh_=model(x_PDE.to(device))"
      ],
      "metadata": {
        "id": "WYiqgoiDmV5G"
      },
      "execution_count": 72,
      "outputs": []
    },
    {
      "cell_type": "code",
      "source": [
        "len(yh_)"
      ],
      "metadata": {
        "colab": {
          "base_uri": "https://localhost:8080/"
        },
        "id": "BHBKqHfUmaEb",
        "outputId": "db28e1f7-51f7-473f-8af0-59d15c94abd7"
      },
      "execution_count": 73,
      "outputs": [
        {
          "output_type": "execute_result",
          "data": {
            "text/plain": [
              "52"
            ]
          },
          "metadata": {},
          "execution_count": 73
        }
      ]
    },
    {
      "cell_type": "markdown",
      "source": [
        "## Error\n"
      ],
      "metadata": {
        "id": "L25ATO1aiGmw"
      }
    },
    {
      "cell_type": "code",
      "source": [
        "print(model.lossBC(x.to(device),f_real(x).to(device)))"
      ],
      "metadata": {
        "id": "ZKoGoEcsiJOW",
        "colab": {
          "base_uri": "https://localhost:8080/"
        },
        "outputId": "c1d46adf-8ace-4cd6-a04b-4ce4a218704a"
      },
      "execution_count": 24,
      "outputs": [
        {
          "output_type": "stream",
          "name": "stdout",
          "text": [
            "tensor(0.0355, grad_fn=<MseLossBackward0>)\n"
          ]
        }
      ]
    },
    {
      "cell_type": "markdown",
      "source": [
        "## Derivative"
      ],
      "metadata": {
        "id": "6a2CMkuZOnQq"
      }
    },
    {
      "cell_type": "code",
      "source": [
        "g=x.to(device)\n",
        "g=g.clone()\n",
        "g.requires_grad=True #Enable differentiation\n",
        "f=model(g)\n",
        "f_x=autograd.grad(f,g,torch.ones([g.shape[0],1]).to(device),retain_graph=True, create_graph=True)[0]"
      ],
      "metadata": {
        "id": "Z_8egvHbOj0V"
      },
      "execution_count": 25,
      "outputs": []
    },
    {
      "cell_type": "markdown",
      "source": [
        "### Detach from GPU"
      ],
      "metadata": {
        "id": "0oM6uaiViYdX"
      }
    },
    {
      "cell_type": "code",
      "source": [
        "y_plot=y.detach().numpy()\n",
        "yh_plot=yh.detach().cpu().numpy()\n",
        "f_x_plot=f_x.detach().cpu().numpy()"
      ],
      "metadata": {
        "id": "V6JLSVU2OrzM"
      },
      "execution_count": 74,
      "outputs": []
    },
    {
      "cell_type": "code",
      "source": [
        "print('x_PDE size = ', len(x_PDE))\n",
        "print('yh_ size = ', len(yh_))\n",
        "print('y_plot size = ', len(y_plot))\n",
        "print('yh_plot size = ', len(yh_plot))\n",
        "print('f_x_plot size = ', len(f_x_plot))"
      ],
      "metadata": {
        "colab": {
          "base_uri": "https://localhost:8080/"
        },
        "id": "bPbUBFjomfYj",
        "outputId": "5fbb7917-57d2-4736-fe80-c49e32e92b21"
      },
      "execution_count": 76,
      "outputs": [
        {
          "output_type": "stream",
          "name": "stdout",
          "text": [
            "x_PDE size =  52\n",
            "yh_ size =  52\n",
            "y_plot size =  500\n",
            "yh_plot size =  500\n",
            "f_x_plot size =  500\n"
          ]
        }
      ]
    },
    {
      "cell_type": "markdown",
      "source": [
        "## 7. Plot Results"
      ],
      "metadata": {
        "id": "qyXasn-WO5zo"
      }
    },
    {
      "cell_type": "code",
      "source": [
        "plt.plot(l)\n",
        "plt.xlabel('Number of iterations', fontsize = 12)\n",
        "plt.ylabel('Loss', fontsize = 12)\n",
        "plt.title('Loss Function over iterations', fontsize = 18)\n",
        "plt.grid()"
      ],
      "metadata": {
        "colab": {
          "base_uri": "https://localhost:8080/",
          "height": 302
        },
        "id": "vGuxcOfUESWl",
        "outputId": "ed77ce86-5444-4cad-f19f-1fb200e37fe9"
      },
      "execution_count": 27,
      "outputs": [
        {
          "output_type": "display_data",
          "data": {
            "text/plain": [
              "<Figure size 432x288 with 1 Axes>"
            ],
            "image/png": "[encoded data removed]"
          },
          "metadata": {
            "needs_background": "light"
          }
        }
      ]
    },
    {
      "cell_type": "code",
      "source": [
        "fig, ax1 = plt.subplots()\n",
        "ax1.plot(x,y_plot,color='blue',label='Real')\n",
        "ax1.plot(x,yh_plot,color='red',label='Predicted')\n",
        "#ax1.plot(x,f_x_plot,color='green',label='Derivative')\n",
        "#ax1.scatter(x_PDE.detach().numpy(),y_DC.detach().numpy(),color='green',label='BC Training')\n",
        "ax1.scatter(x_PDE.detach().numpy(),y_real.detach().numpy(),color='red',label='Real Funct Training')\n",
        "\n",
        "ax1.scatter(x_PDE.detach().cpu().numpy(),yh_.detach().cpu().numpy(),color='violet',label='Output')\n",
        "\n",
        "ax1.set_xlabel('x',color='black')\n",
        "ax1.set_ylabel('f(x)',color='black')\n",
        "ax1.tick_params(axis='y', color='black')\n",
        "ax1.legend(loc = 'upper left')\n",
        "ax1.grid()"
      ],
      "metadata": {
        "id": "F7VYZn23O4M8",
        "colab": {
          "base_uri": "https://localhost:8080/",
          "height": 279
        },
        "outputId": "c3a37f38-e56b-47e9-cf23-2e298fb8e7bc"
      },
      "execution_count": 78,
      "outputs": [
        {
          "output_type": "display_data",
          "data": {
            "text/plain": [
              "<Figure size 432x288 with 1 Axes>"
            ],
            "image/png": "[encoded data removed]"
          },
          "metadata": {
            "needs_background": "light"
          }
        }
      ]
    },
    {
      "cell_type": "code",
      "source": [
        "fig, (ax1, ax2) = plt.subplots(1, 2, figsize=(20, 5))\n",
        "\n",
        "ax1.plot(x,y_plot,color='blue',label='Real')\n",
        "ax1.plot(x,yh_plot,color='red',label='Predicted')\n",
        "#ax1.plot(x,f_x_plot,color='green',label='Derivative')\n",
        "#ax1.scatter(x_PDE.detach().numpy(),y_DC.detach().numpy(),color='green',label='BC Training')\n",
        "ax1.scatter(x_PDE.detach().numpy(),y_real.detach().numpy(),color='red',label='Real Funct Training')\n",
        "ax1.scatter(x_PDE.detach().cpu().numpy(),yh_.detach().cpu().numpy(),color='violet',label='Output')\n",
        "\n",
        "ax1.set_xlabel('x',color='black')\n",
        "ax1.set_ylabel('f(x)',color='black')\n",
        "ax1.tick_params(axis='y', color='black')\n",
        "ax1.legend(loc = 'upper left')\n",
        "ax1.grid()\n",
        "\n",
        "##############\n",
        "ax2.plot(l)\n",
        "ax2.set_xlabel('Number of iterations', fontsize = 12)\n",
        "ax2.set_ylabel('Loss', fontsize = 12)\n",
        "ax2.set_title('Loss Function over iterations', fontsize = 18)\n",
        "ax2.grid()"
      ],
      "metadata": {
        "id": "B8C60Youq03y",
        "colab": {
          "base_uri": "https://localhost:8080/",
          "height": 357
        },
        "outputId": "9ef14d56-298f-4a49-e360-f59e08b4ee80"
      },
      "execution_count": 79,
      "outputs": [
        {
          "output_type": "display_data",
          "data": {
            "text/plain": [
              "<Figure size 1440x360 with 2 Axes>"
            ],
            "image/png": "[encoded data removed]"
          },
          "metadata": {
            "needs_background": "light"
          }
        }
      ]
    },
    {
      "cell_type": "code",
      "source": [
        ""
      ],
      "metadata": {
        "id": "Rv5JIns5F_dS"
      },
      "execution_count": 29,
      "outputs": []
    }
  ]
}