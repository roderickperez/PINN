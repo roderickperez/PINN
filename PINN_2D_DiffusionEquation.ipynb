{
  "nbformat": 4,
  "nbformat_minor": 0,
  "metadata": {
    "colab": {
      "name": "PINN_2D_DiffusionEquation.ipynb",
      "provenance": [],
      "toc_visible": true,
      "authorship_tag": "ABX9TyMdQwCBfnHISiJFVzBoOzlv",
      "include_colab_link": true
    },
    "kernelspec": {
      "name": "python3",
      "display_name": "Python 3"
    },
    "language_info": {
      "name": "python"
    },
    "accelerator": "GPU"
  },
  "cells": [
    {
      "cell_type": "markdown",
      "metadata": {
        "id": "view-in-github",
        "colab_type": "text"
      },
      "source": [
        "<a href=\"https://colab.research.google.com/github/roderickperez/PINN/blob/master/PINN_2D_DiffusionEquation.ipynb\" target=\"_parent\"><img src=\"https://colab.research.google.com/assets/colab-badge.svg\" alt=\"Open In Colab\"/></a>"
      ]
    },
    {
      "cell_type": "markdown",
      "source": [
        "# PINN\n",
        "Tutorial 4: Diffusion (2D) Equation\n",
        "\n",
        "Reference: Juan Toscano (Github: jdtoscano94)\n",
        "\n",
        "https://github.com/jdtoscano94/Learning-PINNs-in-Pytorch-Physics-Informed-Machine-Learning/blob/main/4_DiffusionEquation.ipynb"
      ],
      "metadata": {
        "id": "SYyyqCcPIBYu"
      }
    },
    {
      "cell_type": "markdown",
      "source": [
        "## 0. Install Libraries"
      ],
      "metadata": {
        "id": "D2MNFuKLJlAF"
      }
    },
    {
      "cell_type": "code",
      "source": [
        "! pip install pyDOE"
      ],
      "metadata": {
        "colab": {
          "base_uri": "https://localhost:8080/"
        },
        "id": "dwW7CHsTJnHt",
        "outputId": "b528948e-062b-46ed-f65b-e24af1bb4b71"
      },
      "execution_count": 1,
      "outputs": [
        {
          "output_type": "stream",
          "name": "stdout",
          "text": [
            "Looking in indexes: https://pypi.org/simple, https://us-python.pkg.dev/colab-wheels/public/simple/\n",
            "Requirement already satisfied: pyDOE in /usr/local/lib/python3.7/dist-packages (0.3.8)\n",
            "Requirement already satisfied: numpy in /usr/local/lib/python3.7/dist-packages (from pyDOE) (1.21.6)\n",
            "Requirement already satisfied: scipy in /usr/local/lib/python3.7/dist-packages (from pyDOE) (1.4.1)\n"
          ]
        }
      ]
    },
    {
      "cell_type": "markdown",
      "source": [
        "## 1. Import Libraries"
      ],
      "metadata": {
        "id": "vY_m4ArKJi68"
      }
    },
    {
      "cell_type": "code",
      "execution_count": 2,
      "metadata": {
        "id": "12FPCeSnH0PM"
      },
      "outputs": [],
      "source": [
        "import torch\n",
        "import torch.autograd as autograd         # computation graph\n",
        "from torch import Tensor                  # tensor node in the computation graph\n",
        "import torch.nn as nn                     # neural networks\n",
        "import torch.optim as optim               # optimizers e.g. gradient descent, ADAM, etc."
      ]
    },
    {
      "cell_type": "code",
      "source": [
        "import matplotlib.pyplot as plt\n",
        "import matplotlib.gridspec as gridspec\n",
        "from mpl_toolkits.axes_grid1 import make_axes_locatable\n",
        "from mpl_toolkits.mplot3d import Axes3D\n",
        "import matplotlib.ticker\n",
        "from sklearn.model_selection import train_test_split\n",
        "\n",
        "import numpy as np\n",
        "import time\n",
        "from pyDOE import lhs         #Latin Hypercube Sampling\n",
        "import scipy.io"
      ],
      "metadata": {
        "id": "EKHxoqTEJtqm"
      },
      "execution_count": 3,
      "outputs": []
    },
    {
      "cell_type": "markdown",
      "source": [
        "## 2. Setup parameters and constants"
      ],
      "metadata": {
        "id": "3oYc_W7VJzIZ"
      }
    },
    {
      "cell_type": "code",
      "source": [
        "#Set default dtype to float32\n",
        "torch.set_default_dtype(torch.float)\n",
        "\n",
        "#PyTorch random number generator\n",
        "torch.manual_seed(1234)\n",
        "\n",
        "# Random number generators in other libraries\n",
        "np.random.seed(1234)\n",
        "\n",
        "# Device configuration\n",
        "device = torch.device('cuda' if torch.cuda.is_available() else 'cpu')\n",
        "\n",
        "print(device)\n",
        "\n",
        "if device == 'cuda': \n",
        "    print(torch.cuda.get_device_name())"
      ],
      "metadata": {
        "colab": {
          "base_uri": "https://localhost:8080/"
        },
        "id": "T53K5vIKJwaG",
        "outputId": "2ac876cd-f6af-43f5-b8b2-4cb650559709"
      },
      "execution_count": 4,
      "outputs": [
        {
          "output_type": "stream",
          "name": "stdout",
          "text": [
            "cpu\n"
          ]
        }
      ]
    },
    {
      "cell_type": "code",
      "source": [
        "steps = 20000\n",
        "lr = 1e-3\n",
        "\n",
        "layers = np.array([2,32,32,1]) # 2 hidden layers\n",
        "\n",
        "# To generate new data:\n",
        "x_min = -1\n",
        "x_max = 1\n",
        "t_min = 0\n",
        "t_max = 1\n",
        "total_points_x = 200\n",
        "total_points_t = 100\n",
        "\n",
        "Nu = 100 # Nu: Number of training points \n",
        "Nf = 10000 # Nf: Number of collocation points (Evaluate PDE)"
      ],
      "metadata": {
        "id": "Df6HMEAGJ6pK"
      },
      "execution_count": 5,
      "outputs": []
    },
    {
      "cell_type": "markdown",
      "source": [
        "## 3. Define Function"
      ],
      "metadata": {
        "id": "D-Z_Y9k9KG2o"
      }
    },
    {
      "cell_type": "markdown",
      "source": [
        "### Auxilary Functions"
      ],
      "metadata": {
        "id": "uX_u5CO8r0wS"
      }
    },
    {
      "cell_type": "markdown",
      "source": [
        "#### Plot3D"
      ],
      "metadata": {
        "id": "D8_guJqYr5kC"
      }
    },
    {
      "cell_type": "code",
      "source": [
        "def plot(x,t,y):\n",
        "  x_plot =x.squeeze(1) \n",
        "  t_plot =t.squeeze(1)\n",
        "  X,T= torch.meshgrid(x_plot,t_plot)\n",
        "  F_xt = y\n",
        "  fig,ax=plt.subplots(1,1)\n",
        "  cp = ax.contourf(T,X, F_xt,20,cmap=\"jet\", vmin = -1, vmax = 1)\n",
        "  fig.colorbar(cp) # Add a colorbar to a plot\n",
        "  ax.set_title('F(x,t)')\n",
        "  ax.set_xlabel('t')\n",
        "  ax.set_ylabel('x')\n",
        "  plt.show()"
      ],
      "metadata": {
        "id": "Ri4bkZ44r9Sg"
      },
      "execution_count": 6,
      "outputs": []
    },
    {
      "cell_type": "code",
      "source": [
        "def plot_(x,t,y):\n",
        "  X,T= x,t\n",
        "  F_xt = y\n",
        "  fig,ax=plt.subplots(1,1)\n",
        "  cp = ax.contourf(T,X, F_xt,20,cmap=\"jet\", vmin = -1, vmax = 1)\n",
        "  fig.colorbar(cp) # Add a colorbar to a plot\n",
        "  ax.set_title('F(x,t)')\n",
        "  ax.set_xlabel('t')\n",
        "  ax.set_ylabel('x')\n",
        "  plt.show()"
      ],
      "metadata": {
        "id": "NYLhJCnar0hY"
      },
      "execution_count": 7,
      "outputs": []
    },
    {
      "cell_type": "markdown",
      "source": [
        "###  Diffusion Equation\n",
        "https://deepxde.readthedocs.io/en/latest/demos/pinn_forward/diffusion.1d.html\n",
        "\n",
        "$$\\frac{\\partial y}{\\partial t}=\\frac{\\partial^2 y}{\\partial x^2}-e^{-t}(sin(-\\pi x)-\\pi^2 sin(\\pi x))$$\n",
        "\n",
        "where \n",
        "$$x \\in [-1, 1]$$\n",
        "\n",
        "$$t \\in [0, 1]$$\n",
        "\n",
        "**Initial Conditions**\n",
        "\n",
        "$$y(x, 0) = sin(\\pi x)$$\n",
        "\n",
        "**Boundary Conditions**\n",
        "\n",
        "$$y(-1, t) = 0$$\n",
        "\n",
        "$$y(1, t) = 0$$\n",
        "\n",
        "Exact Solution\n",
        "\n",
        "$$y(x,t) = e^{-t}sin(\\pi x)$$\n",
        "\n",
        "---\n",
        "\n",
        "## Analysis\n",
        "\n",
        "**PDE**\n",
        "\n",
        "$$\\frac{\\partial y}{\\partial t}=\\frac{\\partial^2 y}{\\partial x^2}-e^{-t}(sin(-\\pi x)-\\pi^2 sin(\\pi x))$$\n",
        "\n",
        "re-arranging the previous equation:\n",
        "\n",
        "$$\\left ( \\frac{\\partial y}{\\partial t} - \\frac{\\partial^2 y}{\\partial x^2} \\right ) + e^{-t}(sin(-\\pi x)-\\pi^2 sin(\\pi x)) = 0$$"
      ],
      "metadata": {
        "id": "wv8dR_L_RcXM"
      }
    },
    {
      "cell_type": "markdown",
      "source": [
        "Exact Solution"
      ],
      "metadata": {
        "id": "qsbY4DmOvI9V"
      }
    },
    {
      "cell_type": "code",
      "source": [
        "def f_real(x,t):\n",
        "  return torch.exp(-t)*(torch.sin(np.pi*x))"
      ],
      "metadata": {
        "id": "puT3jwPCnj4m"
      },
      "execution_count": 8,
      "outputs": []
    },
    {
      "cell_type": "markdown",
      "source": [
        "The PDE equation is used to get the residual in the Neural Network."
      ],
      "metadata": {
        "id": "O_19QSAjVL6B"
      }
    },
    {
      "cell_type": "code",
      "source": [
        "def PDE(x):\n",
        "  return -1*(np.pi**2)*torch.sin(np.pi*x)"
      ],
      "metadata": {
        "id": "0nD4_DnhVK11"
      },
      "execution_count": 9,
      "outputs": []
    },
    {
      "cell_type": "markdown",
      "source": [
        "## 4. Define Network Architecture\n",
        "\n",
        "Following the PyTorch Network Architecture\n",
        "```python\n",
        "class networkName(nn.Module):\n",
        "\n",
        "    def __init__(self, ...):\n",
        "        super(networkName, self).__init__()\n",
        "        # Define Network layers\n",
        "        self.layer1 = nn.XXXX(...)\n",
        "        self.layer2 = nn.XXXX(...)\n",
        "        ...\n",
        "        self.layern = nn.XXXX(...)\n",
        "\n",
        "    def forward(self, x):\n",
        "        out = self.layer1\n",
        "        out = self.layer2\n",
        "        ...\n",
        "        out = self.layern\n",
        "\n",
        "        return out\n",
        "\n",
        "# Call the model\n",
        "model = networkName(...)\n",
        "\n",
        "# Define loss\n",
        "loss = nn.XXXLoss()\n",
        "```\n",
        "\n",
        "In this case, we will follow the following architecture:\n",
        "\n",
        "*   Activation Function: tanh\n",
        "*   Loss Function: MSE\n",
        "*   Initialise neural network as a list using `nn.Modulelist()`\n"
      ],
      "metadata": {
        "id": "xtjA2SNEKRb8"
      }
    },
    {
      "cell_type": "code",
      "source": [
        "class FCN(nn.Module):\n",
        "    ##Neural Network\n",
        "    def __init__(self,layers):\n",
        "        super().__init__() #call __init__ from parent class \n",
        "        'activation function'\n",
        "        self.activation = nn.Tanh()\n",
        "        'loss function'\n",
        "        self.loss_function = nn.MSELoss(reduction ='mean')\n",
        "        'Initialise neural network as a list using nn.Modulelist'  \n",
        "        self.linears = nn.ModuleList([nn.Linear(layers[i], layers[i+1]) for i in range(len(layers)-1)]) \n",
        "        self.iter = 0\n",
        "        'Xavier Normal Initialization'\n",
        "        # std = gain * sqrt(2/(input_dim+output_dim))\n",
        "        for i in range(len(layers)-1):\n",
        "            # weights from a normal distribution with \n",
        "            # Recommended gain value for tanh = 5/3?\n",
        "            nn.init.xavier_normal_(self.linears[i].weight.data, gain=1.0)\n",
        "            # set biases to zero\n",
        "            nn.init.zeros_(self.linears[i].bias.data)   \n",
        "\n",
        "    'foward pass'\n",
        "    def forward(self,x):\n",
        "        if torch.is_tensor(x) != True:         \n",
        "            x = torch.from_numpy(x)                \n",
        "        a = x.float()\n",
        "        for i in range(len(layers)-2):  \n",
        "            z = self.linears[i](a)              \n",
        "            a = self.activation(z)    \n",
        "        a = self.linears[-1](a)\n",
        "        return a\n",
        "\n",
        "    'Loss Functions'\n",
        "    #Loss BC\n",
        "    def lossBC(self,x_BC,y_BC):\n",
        "      loss_BC=self.loss_function(self.forward(x_BC),y_BC)\n",
        "      return loss_BC\n",
        "    #Loss PDE\n",
        "    def lossPDE(self,x_PDE):\n",
        "      g=x_PDE.clone()\n",
        "      g.requires_grad=True #Enable differentiation\n",
        "      f=self.forward(g)\n",
        "      f_x_t = autograd.grad(f,g,torch.ones([g.shape[0], 1]).to(device), retain_graph=True, create_graph=True)[0] #first derivative\n",
        "      f_xx_tt = autograd.grad(f_x_t,g,torch.ones(g.shape).to(device), create_graph=True)[0]#second derivative\n",
        "      f_t=f_x_t[:,[1]]# we select the 2nd element for t (the first one is x) (Remember the input X=[x,t]) \n",
        "      f_xx=f_xx_tt[:,[0]]# we select the 1st element for x (the second one is t) (Remember the input X=[x,t]) \n",
        "      f=f_t-f_xx+ torch.exp(-g[:, 1:])* (torch.sin(np.pi * g[:, 0:1]) - np.pi ** 2 * torch.sin(np.pi * g[:, 0:1]))\n",
        "      return self.loss_function(f,f_hat)\n",
        "\n",
        "    def loss(self,x_BC,y_BC,x_PDE):\n",
        "      loss_bc=self.lossBC(x_BC,y_BC)\n",
        "      loss_pde=self.lossPDE(x_PDE)\n",
        "      return loss_bc+loss_pde\n",
        "\n",
        "    #Optimizer              X_train_Nu,Y_train_Nu,X_train_Nf                   \n",
        "    def closure(self):\n",
        "      optimizer.zero_grad()  \n",
        "      loss = self.loss(X_train_Nu,Y_train_Nu,X_train_Nf)\n",
        "      loss.backward()      \n",
        "      self.iter += 1\n",
        "      if self.iter % 100 == 0:\n",
        "        loss2=self.lossBC(X_test,Y_test)\n",
        "        print(\"Training Error:\",loss.detach().cpu().numpy(),\"---Testing Error:\",loss2.detach().cpu().numpy())\n",
        "      return loss"
      ],
      "metadata": {
        "id": "9xvbzu3BKKHV"
      },
      "execution_count": 10,
      "outputs": []
    },
    {
      "cell_type": "markdown",
      "source": [
        "## 5. Data\n",
        "\n",
        "Generate the analytical solution over the full domain"
      ],
      "metadata": {
        "id": "wvFXtytlNdIK"
      }
    },
    {
      "cell_type": "code",
      "source": [
        "x = torch.linspace(x_min,x_max,total_points_x).view(-1,1)\n",
        "t = torch.linspace(t_min,t_max,total_points_t).view(-1,1)"
      ],
      "metadata": {
        "id": "J_6QkhEtNabH"
      },
      "execution_count": 11,
      "outputs": []
    },
    {
      "cell_type": "code",
      "source": [
        "# Create the mesh \n",
        "X, T = torch.meshgrid(x.squeeze(1),t.squeeze(1))"
      ],
      "metadata": {
        "colab": {
          "base_uri": "https://localhost:8080/"
        },
        "id": "y7ISbIKHwPJ6",
        "outputId": "06367e11-7516-45b7-e6c9-9a3fb339bd9e"
      },
      "execution_count": 12,
      "outputs": [
        {
          "output_type": "stream",
          "name": "stderr",
          "text": [
            "/usr/local/lib/python3.7/dist-packages/torch/functional.py:568: UserWarning: torch.meshgrid: in an upcoming release, it will be required to pass the indexing argument. (Triggered internally at  ../aten/src/ATen/native/TensorShape.cpp:2228.)\n",
            "  return _VF.meshgrid(tensors, **kwargs)  # type: ignore[attr-defined]\n"
          ]
        }
      ]
    },
    {
      "cell_type": "code",
      "source": [
        "# Evaluate real function\n",
        "y_real = f_real(X,T)\n",
        "plot(x,t,y_real) #f_real was defined previously(function)"
      ],
      "metadata": {
        "colab": {
          "base_uri": "https://localhost:8080/",
          "height": 295
        },
        "id": "_7MySydnwQ4N",
        "outputId": "43614a4f-fdc1-4e51-8d4a-48c7458ebaa1"
      },
      "execution_count": 13,
      "outputs": [
        {
          "output_type": "display_data",
          "data": {
            "text/plain": [
              "<Figure size 432x288 with 2 Axes>"
            ],
            "image/png": "[encoded data removed]"
          },
          "metadata": {
            "needs_background": "light"
          }
        }
      ]
    },
    {
      "cell_type": "code",
      "source": [
        "print(x.shape,t.shape,y_real.shape)\n",
        "print(X.shape,T.shape)"
      ],
      "metadata": {
        "colab": {
          "base_uri": "https://localhost:8080/"
        },
        "id": "yD5NQhFMwrG7",
        "outputId": "7adcc0f1-532c-434a-f022-9229bd8f339e"
      },
      "execution_count": 14,
      "outputs": [
        {
          "output_type": "stream",
          "name": "stdout",
          "text": [
            "torch.Size([200, 1]) torch.Size([100, 1]) torch.Size([200, 100])\n",
            "torch.Size([200, 100]) torch.Size([200, 100])\n"
          ]
        }
      ]
    },
    {
      "cell_type": "markdown",
      "source": [
        "## Prepate Data"
      ],
      "metadata": {
        "id": "CRPsfy9TwtXW"
      }
    },
    {
      "cell_type": "code",
      "source": [
        "# Transform the mesh into a 2-column vector\n",
        "x_test=torch.hstack((X.transpose(1,0).flatten()[:,None],T.transpose(1,0).flatten()[:,None]))\n",
        "y_test=y_real.transpose(1,0).flatten()[:,None] # Colum major Flatten (so we transpose it)\n",
        "# Domain bounds\n",
        "lb=x_test[0] #first value\n",
        "ub=x_test[-1] #last value \n",
        "print(x_test.shape,y_test.shape)\n",
        "print(lb,ub)"
      ],
      "metadata": {
        "colab": {
          "base_uri": "https://localhost:8080/"
        },
        "id": "nnaQP9vJwwDb",
        "outputId": "c20b6f65-3b06-475b-cab5-f63faf1ebe44"
      },
      "execution_count": 15,
      "outputs": [
        {
          "output_type": "stream",
          "name": "stdout",
          "text": [
            "torch.Size([20000, 2]) torch.Size([20000, 1])\n",
            "tensor([-1.,  0.]) tensor([1., 1.])\n"
          ]
        }
      ]
    },
    {
      "cell_type": "markdown",
      "source": [
        "### Initial Condition"
      ],
      "metadata": {
        "id": "UUlerkPZw77g"
      }
    },
    {
      "cell_type": "code",
      "source": [
        "#Left Edge: x(x,0)=sin(x)->xmin=<x=<xmax; t=0\n",
        "left_X=torch.hstack((X[:,0][:,None],T[:,0][:,None])) # First column # The [:,None] is to give it the right dimension\n",
        "left_Y=torch.sin(np.pi*left_X[:,0]).unsqueeze(1)"
      ],
      "metadata": {
        "id": "2vwFCzt7xAPo"
      },
      "execution_count": 16,
      "outputs": []
    },
    {
      "cell_type": "markdown",
      "source": [
        "### Boundary Conditions"
      ],
      "metadata": {
        "id": "YSxfdFpExBzq"
      }
    },
    {
      "cell_type": "code",
      "source": [
        "#Bottom Edge: x=min; tmin=<t=<max\n",
        "bottom_X=torch.hstack((X[0,:][:,None],T[0,:][:,None])) # First row # The [:,None] is to give it the right dimension\n",
        "bottom_Y=torch.zeros(bottom_X.shape[0],1)\n",
        "#Top Edge: x=max; 0=<t=<1\n",
        "top_X=torch.hstack((X[-1,:][:,None],T[-1,:][:,None])) # Last row # The [:,None] is to give it the right dimension\n",
        "top_Y=torch.zeros(top_X.shape[0],1)"
      ],
      "metadata": {
        "id": "xloSx1oQxFob"
      },
      "execution_count": 17,
      "outputs": []
    },
    {
      "cell_type": "markdown",
      "source": [
        "### Get all the training data into the same dataset"
      ],
      "metadata": {
        "id": "Y-PxdommxI3H"
      }
    },
    {
      "cell_type": "code",
      "source": [
        "X_train=torch.vstack([left_X,bottom_X,top_X])\n",
        "Y_train=torch.vstack([left_Y,bottom_Y,top_Y])"
      ],
      "metadata": {
        "id": "bI7onNVExTOz"
      },
      "execution_count": 18,
      "outputs": []
    },
    {
      "cell_type": "markdown",
      "source": [
        "### Choose(Nu) points of our available training data:\n"
      ],
      "metadata": {
        "id": "7vsB0Gt0xLfc"
      }
    },
    {
      "cell_type": "code",
      "source": [
        "idx=np.random.choice(X_train.shape[0],Nu,replace=False)\n",
        "X_train_Nu=X_train[idx,:]\n",
        "Y_train_Nu=Y_train[idx,:]"
      ],
      "metadata": {
        "id": "Vvbdv84txVEa"
      },
      "execution_count": 19,
      "outputs": []
    },
    {
      "cell_type": "code",
      "source": [
        "print(idx)"
      ],
      "metadata": {
        "colab": {
          "base_uri": "https://localhost:8080/"
        },
        "id": "mC2e88b95Meo",
        "outputId": "2c279cd6-ef0d-4502-a5f5-8760736ec727"
      },
      "execution_count": 20,
      "outputs": [
        {
          "output_type": "stream",
          "name": "stdout",
          "text": [
            "[ 44 110  78 181 285 261  74 270   7 327 264  11  22 146  92 329  66 214\n",
            " 230 122 266 265  59 140  71 347 198 298 337 272 101  73  70 276 356 166\n",
            " 108 254 169  97 245  40  13  43 160 179 353 334  64  29 156 200 378  24\n",
            " 392 322 149 239 313 333 323  57 227 199 138 307 228 229 104 219 131 133\n",
            " 309 144 184 299  55 129 153  90  33 253 118 300 115  54 357 383  36  91\n",
            " 226  99 192 100 223 167 216 387 319  37]\n"
          ]
        }
      ]
    },
    {
      "cell_type": "code",
      "source": [
        "len(idx)"
      ],
      "metadata": {
        "colab": {
          "base_uri": "https://localhost:8080/"
        },
        "id": "WXDG7Zvs5P1I",
        "outputId": "0f61a2a8-0c70-4a9f-f17b-6e143070b471"
      },
      "execution_count": 21,
      "outputs": [
        {
          "output_type": "execute_result",
          "data": {
            "text/plain": [
              "100"
            ]
          },
          "metadata": {},
          "execution_count": 21
        }
      ]
    },
    {
      "cell_type": "markdown",
      "source": [
        "### Collocation Points (Evaluate our PDe)\n",
        "\n",
        "Choose (Nf) points(Latin hypercube)"
      ],
      "metadata": {
        "id": "kQBTrKqFxNhu"
      }
    },
    {
      "cell_type": "code",
      "source": [
        "X_train_Nf=lb+(ub-lb)*lhs(2,Nf) # 2 as the inputs are x and t\n",
        "X_train_Nf=torch.vstack((X_train_Nf,X_train_Nu)) #Add the training poinst to the collocation points"
      ],
      "metadata": {
        "id": "YU95Qev_xRLn"
      },
      "execution_count": 23,
      "outputs": []
    },
    {
      "cell_type": "code",
      "source": [
        "print(\"Original shapes for X and Y:\",X.shape,y_real.shape)\n",
        "print(\"Boundary shapes for the edges:\",left_X.shape,bottom_X.shape,top_X.shape)\n",
        "print(\"Available training data:\",X_train.shape,Y_train.shape)\n",
        "print(\"Final training data:\",X_train_Nu.shape,Y_train_Nu.shape)\n",
        "print(\"Total collocation points:\",X_train_Nf.shape)"
      ],
      "metadata": {
        "colab": {
          "base_uri": "https://localhost:8080/"
        },
        "id": "OIvrD3Xjxem-",
        "outputId": "7eeb9cf5-80d6-4922-a613-80aeac9ca756"
      },
      "execution_count": 24,
      "outputs": [
        {
          "output_type": "stream",
          "name": "stdout",
          "text": [
            "Original shapes for X and Y: torch.Size([200, 100]) torch.Size([200, 100])\n",
            "Boundary shapes for the edges: torch.Size([200, 2]) torch.Size([100, 2]) torch.Size([100, 2])\n",
            "Available training data: torch.Size([400, 2]) torch.Size([400, 1])\n",
            "Final training data: torch.Size([100, 2]) torch.Size([100, 1])\n",
            "Total collocation points: torch.Size([10100, 2])\n"
          ]
        }
      ]
    },
    {
      "cell_type": "markdown",
      "source": [
        "## 6. Train Network"
      ],
      "metadata": {
        "id": "0lRIQyegOEVj"
      }
    },
    {
      "cell_type": "code",
      "source": [
        "# Prepare model\n",
        "torch.manual_seed(123)"
      ],
      "metadata": {
        "id": "rHjzuynzOC-V",
        "colab": {
          "base_uri": "https://localhost:8080/"
        },
        "outputId": "0eeebdc0-1a63-4b0e-8718-04ca83de0b28"
      },
      "execution_count": 25,
      "outputs": [
        {
          "output_type": "execute_result",
          "data": {
            "text/plain": [
              "<torch._C.Generator at 0x7ff637463330>"
            ]
          },
          "metadata": {},
          "execution_count": 25
        }
      ]
    },
    {
      "cell_type": "code",
      "source": [
        "#Store tensors to GPU\n",
        "X_train_Nu=X_train_Nu.float().to(device)#Training Points (BC)\n",
        "Y_train_Nu=Y_train_Nu.float().to(device)#Training Points (BC)\n",
        "X_train_Nf=X_train_Nf.float().to(device)#Collocation Points\n",
        "f_hat = torch.zeros(X_train_Nf.shape[0],1).to(device)#to minimize function"
      ],
      "metadata": {
        "id": "ATC8kEaPxjN7"
      },
      "execution_count": 26,
      "outputs": []
    },
    {
      "cell_type": "code",
      "source": [
        "X_test=x_test.float().to(device) # the input dataset (complete)\n",
        "Y_test=y_test.float().to(device) # the real solution "
      ],
      "metadata": {
        "id": "-B6c7SssOXX3"
      },
      "execution_count": 27,
      "outputs": []
    },
    {
      "cell_type": "markdown",
      "source": [
        "### Create Model"
      ],
      "metadata": {
        "id": "fLnL3HPTxpUM"
      }
    },
    {
      "cell_type": "code",
      "source": [
        "PINN = FCN(layers)\n",
        "PINN.to(device)\n",
        "print(PINN)\n",
        "params = list(PINN.parameters())\n",
        "optimizer = torch.optim.Adam(PINN.parameters(),lr=lr,amsgrad=False)\n",
        "'''\n",
        "'L-BFGS Optimizer'\n",
        "optimizer = torch.optim.LBFGS(PINN.parameters(), lr=lr, \n",
        "                              max_iter = steps, \n",
        "                              max_eval = None, \n",
        "                              tolerance_grad = 1e-05, \n",
        "                              tolerance_change = 1e-09, \n",
        "                              history_size = 100, \n",
        "                              line_search_fn = 'strong_wolfe')'''\n",
        "start_time = time.time()"
      ],
      "metadata": {
        "id": "gQCW6QERfLzG",
        "colab": {
          "base_uri": "https://localhost:8080/"
        },
        "outputId": "00902998-b955-42ea-82a9-379bf90dcdf6"
      },
      "execution_count": 28,
      "outputs": [
        {
          "output_type": "stream",
          "name": "stdout",
          "text": [
            "FCN(\n",
            "  (activation): Tanh()\n",
            "  (loss_function): MSELoss()\n",
            "  (linears): ModuleList(\n",
            "    (0): Linear(in_features=2, out_features=32, bias=True)\n",
            "    (1): Linear(in_features=32, out_features=32, bias=True)\n",
            "    (2): Linear(in_features=32, out_features=1, bias=True)\n",
            "  )\n",
            ")\n"
          ]
        }
      ]
    },
    {
      "cell_type": "code",
      "source": [
        "#optimizer.step(PINN.closure)"
      ],
      "metadata": {
        "id": "u9oOJqRDpUgx"
      },
      "execution_count": 29,
      "outputs": []
    },
    {
      "cell_type": "markdown",
      "source": [
        "### Training Loop"
      ],
      "metadata": {
        "id": "Mmn06FNhOg7A"
      }
    },
    {
      "cell_type": "code",
      "source": [
        "l = []\n",
        "\n",
        "for i in range(steps):\n",
        "    if i==0:\n",
        "      print(\"Training Loss-----Test Loss\")\n",
        "    loss = PINN.loss(X_train_Nu,Y_train_Nu,X_train_Nf) # use mean squared error\n",
        "    l.append(loss.item())\n",
        "    optimizer.zero_grad()\n",
        "    loss.backward()\n",
        "    optimizer.step()\n",
        "    if i%(steps/10)==0:\n",
        "      with torch.no_grad():\n",
        "        test_loss=PINN.lossBC(X_test,Y_test)\n",
        "      print(loss.detach().cpu().numpy(),'---',test_loss.detach().cpu().numpy())"
      ],
      "metadata": {
        "colab": {
          "base_uri": "https://localhost:8080/"
        },
        "id": "OOuEEvNvOKmF",
        "outputId": "cce46176-7c4f-4915-a472-7da8fede08bb"
      },
      "execution_count": 30,
      "outputs": [
        {
          "output_type": "stream",
          "name": "stdout",
          "text": [
            "Training Loss-----Test Loss\n",
            "16.872952 --- 0.21578383\n",
            "0.0023157839 --- 0.040029988\n",
            "0.0009407956 --- 0.037006427\n",
            "0.00046192628 --- 0.03623444\n",
            "0.00022568408 --- 0.03617945\n",
            "0.00013629891 --- 0.036158804\n",
            "0.0001279806 --- 0.03609627\n",
            "8.941313e-05 --- 0.036113016\n",
            "7.879784e-05 --- 0.036081597\n",
            "0.00012485115 --- 0.0361414\n"
          ]
        }
      ]
    },
    {
      "cell_type": "markdown",
      "source": [
        "## 6. Plot Functions"
      ],
      "metadata": {
        "id": "NOnsGxH1h-Yq"
      }
    },
    {
      "cell_type": "code",
      "source": [
        "plt.plot(l)\n",
        "plt.xlabel('Number of iterations', fontsize = 12)\n",
        "plt.ylabel('Loss', fontsize = 12)\n",
        "plt.title('Loss Function over iterations', fontsize = 18)\n",
        "plt.grid()"
      ],
      "metadata": {
        "colab": {
          "base_uri": "https://localhost:8080/",
          "height": 302
        },
        "id": "RCrj1knFsSiR",
        "outputId": "807416a8-b0f5-4691-e99f-42749324e2cb"
      },
      "execution_count": 31,
      "outputs": [
        {
          "output_type": "display_data",
          "data": {
            "text/plain": [
              "<Figure size 432x288 with 1 Axes>"
            ],
            "image/png": "[encoded data removed]"
          },
          "metadata": {
            "needs_background": "light"
          }
        }
      ]
    },
    {
      "cell_type": "code",
      "source": [
        "y1=PINN(X_test)"
      ],
      "metadata": {
        "id": "ejQAnlyaiDIB"
      },
      "execution_count": 32,
      "outputs": []
    },
    {
      "cell_type": "code",
      "source": [
        "x1=X_test[:,0]\n",
        "t1=X_test[:,1]"
      ],
      "metadata": {
        "id": "AxtEAJC2x1F0"
      },
      "execution_count": 33,
      "outputs": []
    },
    {
      "cell_type": "code",
      "source": [
        "arr_x1=x1.reshape(shape=[100,200]).transpose(1,0).detach().cpu()\n",
        "arr_T1=t1.reshape(shape=[100,200]).transpose(1,0).detach().cpu()\n",
        "arr_y1=y1.reshape(shape=[100,200]).transpose(1,0).detach().cpu()\n",
        "arr_y_test=y_test.reshape(shape=[100,200]).transpose(1,0).detach().cpu()"
      ],
      "metadata": {
        "id": "B8C60Youq03y"
      },
      "execution_count": 34,
      "outputs": []
    },
    {
      "cell_type": "code",
      "source": [
        "plot(x,t,y_real)"
      ],
      "metadata": {
        "colab": {
          "base_uri": "https://localhost:8080/",
          "height": 295
        },
        "id": "JK3F7yPWx_Cu",
        "outputId": "865d69e0-aa18-4458-dbb9-4c19d346aaba"
      },
      "execution_count": 35,
      "outputs": [
        {
          "output_type": "display_data",
          "data": {
            "text/plain": [
              "<Figure size 432x288 with 2 Axes>"
            ],
            "image/png": "[encoded data removed]"
          },
          "metadata": {
            "needs_background": "light"
          }
        }
      ]
    },
    {
      "cell_type": "code",
      "source": [
        "plot_(arr_x1,arr_T1,arr_y1)"
      ],
      "metadata": {
        "colab": {
          "base_uri": "https://localhost:8080/",
          "height": 295
        },
        "id": "xjrUWfNUx6JU",
        "outputId": "ac78fbac-1dc5-4ad3-a24c-a66956b2caea"
      },
      "execution_count": 36,
      "outputs": [
        {
          "output_type": "display_data",
          "data": {
            "text/plain": [
              "<Figure size 432x288 with 2 Axes>"
            ],
            "image/png": "[encoded data removed]"
          },
          "metadata": {
            "needs_background": "light"
          }
        }
      ]
    },
    {
      "cell_type": "code",
      "source": [
        "plot_(arr_x1,arr_T1,y_real-arr_y1)"
      ],
      "metadata": {
        "colab": {
          "base_uri": "https://localhost:8080/",
          "height": 295
        },
        "id": "LPMXMtTez2Iv",
        "outputId": "43fa18c5-75ca-4f87-f707-20d9da216113"
      },
      "execution_count": 37,
      "outputs": [
        {
          "output_type": "display_data",
          "data": {
            "text/plain": [
              "<Figure size 432x288 with 2 Axes>"
            ],
            "image/png": "[encoded data removed]"
          },
          "metadata": {
            "needs_background": "light"
          }
        }
      ]
    }
  ]
}