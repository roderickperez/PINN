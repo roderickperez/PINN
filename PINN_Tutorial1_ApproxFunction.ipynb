{
  "nbformat": 4,
  "nbformat_minor": 0,
  "metadata": {
    "colab": {
      "name": "PINN_Tutorial1_ApproxFunction.ipynb",
      "provenance": [],
      "toc_visible": true,
      "collapsed_sections": [],
      "authorship_tag": "ABX9TyOnGY2j+vTgOEKGwY5zAMo3",
      "include_colab_link": true
    },
    "kernelspec": {
      "name": "python3",
      "display_name": "Python 3"
    },
    "language_info": {
      "name": "python"
    },
    "accelerator": "GPU"
  },
  "cells": [
    {
      "cell_type": "markdown",
      "metadata": {
        "id": "view-in-github",
        "colab_type": "text"
      },
      "source": [
        "<a href=\"https://colab.research.google.com/github/roderickperez/PINN/blob/master/PINN_Tutorial1_ApproxFunction.ipynb\" target=\"_parent\"><img src=\"https://colab.research.google.com/assets/colab-badge.svg\" alt=\"Open In Colab\"/></a>"
      ]
    },
    {
      "cell_type": "markdown",
      "source": [
        "# PINN\n",
        "\n",
        "Tutorial 1: Approximate Function | Juan Toscano (Github: jdtoscano94)\n",
        "\n",
        "https://github.com/jdtoscano94/Learning-PINNs-in-Pytorch-Physics-Informed-Machine-Learning/blob/main/1_Approximate_a_function.ipynb"
      ],
      "metadata": {
        "id": "SYyyqCcPIBYu"
      }
    },
    {
      "cell_type": "markdown",
      "source": [
        "## 0. Install Libraries"
      ],
      "metadata": {
        "id": "D2MNFuKLJlAF"
      }
    },
    {
      "cell_type": "code",
      "source": [
        "! pip install torch"
      ],
      "metadata": {
        "colab": {
          "base_uri": "https://localhost:8080/"
        },
        "id": "dwW7CHsTJnHt",
        "outputId": "726ac979-f15d-48b3-9b45-fccd368c27be"
      },
      "execution_count": 36,
      "outputs": [
        {
          "output_type": "stream",
          "name": "stdout",
          "text": [
            "Looking in indexes: https://pypi.org/simple, https://us-python.pkg.dev/colab-wheels/public/simple/\n",
            "Requirement already satisfied: torch in /usr/local/lib/python3.7/dist-packages (1.11.0+cu113)\n",
            "Requirement already satisfied: typing-extensions in /usr/local/lib/python3.7/dist-packages (from torch) (4.2.0)\n"
          ]
        }
      ]
    },
    {
      "cell_type": "markdown",
      "source": [
        "## 1. Import Libraries"
      ],
      "metadata": {
        "id": "vY_m4ArKJi68"
      }
    },
    {
      "cell_type": "code",
      "execution_count": 37,
      "metadata": {
        "id": "12FPCeSnH0PM"
      },
      "outputs": [],
      "source": [
        "import torch\n",
        "import torch.autograd as autograd         # computation graph\n",
        "from torch import Tensor                  # tensor node in the computation graph\n",
        "import torch.nn as nn                     # neural networks\n",
        "import torch.optim as optim               # optimizers e.g. gradient descent, ADAM, etc."
      ]
    },
    {
      "cell_type": "code",
      "source": [
        "import matplotlib.pyplot as plt\n",
        "import matplotlib.gridspec as gridspec\n",
        "from mpl_toolkits.axes_grid1 import make_axes_locatable\n",
        "from mpl_toolkits.mplot3d import Axes3D\n",
        "import matplotlib.ticker\n",
        "from sklearn.model_selection import train_test_split\n",
        "\n",
        "import numpy as np\n",
        "import time\n",
        "import scipy.io"
      ],
      "metadata": {
        "id": "EKHxoqTEJtqm"
      },
      "execution_count": 38,
      "outputs": []
    },
    {
      "cell_type": "markdown",
      "source": [
        "## 2. Setup parameters and constants"
      ],
      "metadata": {
        "id": "3oYc_W7VJzIZ"
      }
    },
    {
      "cell_type": "code",
      "source": [
        "#Set default dtype to float32\n",
        "torch.set_default_dtype(torch.float)\n",
        "\n",
        "#PyTorch random number generator\n",
        "torch.manual_seed(1234)\n",
        "\n",
        "# Random number generators in other libraries\n",
        "np.random.seed(1234)\n",
        "\n",
        "# Device configuration\n",
        "device = torch.device('cuda' if torch.cuda.is_available() else 'cpu')\n",
        "\n",
        "print(device)\n",
        "\n",
        "if device == 'cuda': \n",
        "    print(torch.cuda.get_device_name())"
      ],
      "metadata": {
        "colab": {
          "base_uri": "https://localhost:8080/"
        },
        "id": "T53K5vIKJwaG",
        "outputId": "e22063d1-6d0c-457a-dd25-35f309a2cad2"
      },
      "execution_count": 39,
      "outputs": [
        {
          "output_type": "stream",
          "name": "stdout",
          "text": [
            "cuda\n"
          ]
        }
      ]
    },
    {
      "cell_type": "code",
      "source": [
        "# Parameters\n",
        "\n",
        "steps = 50\n",
        "lr = 0.01\n",
        "n_control_points = 100"
      ],
      "metadata": {
        "id": "Df6HMEAGJ6pK"
      },
      "execution_count": 116,
      "outputs": []
    },
    {
      "cell_type": "markdown",
      "source": [
        "## 3. Define Function"
      ],
      "metadata": {
        "id": "D-Z_Y9k9KG2o"
      }
    },
    {
      "cell_type": "code",
      "source": [
        "def f(x):\n",
        "    y=torch.sin(x)\n",
        "    return y"
      ],
      "metadata": {
        "id": "5Q6oIuMlKEim"
      },
      "execution_count": 117,
      "outputs": []
    },
    {
      "cell_type": "markdown",
      "source": [
        "## 4. Define Network Architecture\n",
        "\n",
        "Following the PyTorch Network Architecture\n",
        "```python\n",
        "class networkName(nn.Module):\n",
        "\n",
        "    def __init__(self, ...):\n",
        "        super(networkName, self).__init__()\n",
        "        # Define Network layers\n",
        "        self.layer1 = nn.XXXX(...)\n",
        "        self.layer2 = nn.XXXX(...)\n",
        "        ...\n",
        "        self.layern = nn.XXXX(...)\n",
        "\n",
        "    def forward(self, x):\n",
        "        out = self.layer1\n",
        "        out = self.layer2\n",
        "        ...\n",
        "        out = self.layern\n",
        "\n",
        "        return out\n",
        "\n",
        "# Call the model\n",
        "model = networkName(...)\n",
        "\n",
        "# Define loss\n",
        "loss = nn.XXXLoss()\n",
        "```\n",
        "\n",
        "In this case, we will follow the following architecture:\n",
        "\n",
        "*   Activation Function: tanh\n",
        "*   Loss Function: MSE\n",
        "*   Initialise neural network as a list using `nn.Modulelist()`\n",
        "\n"
      ],
      "metadata": {
        "id": "xtjA2SNEKRb8"
      }
    },
    {
      "cell_type": "code",
      "source": [
        "class FCN(nn.Module):\n",
        "    \n",
        "    def __init__(self, layers):\n",
        "        super().__init__() #call __init__ from parent class \n",
        "        'activation function'\n",
        "        self.activation = nn.Tanh()\n",
        "        'loss function'\n",
        "        self.loss_function = nn.MSELoss(reduction ='mean')\n",
        "        'Initialise neural network as a list using nn.Modulelist'  \n",
        "        self.linears = nn.ModuleList([nn.Linear(layers[i], layers[i+1]) for i in range(len(layers)-1)])\n",
        "        self.iter = 0\n",
        "        \n",
        "        'Xavier Normal Initialization'\n",
        "        # std = gain * sqrt(2/(input_dim+output_dim))\n",
        "        for i in range(len(layers)-1): \n",
        "            # weights from a normal distribution with \n",
        "            # Recommended gain value for tanh = 5/3?\n",
        "            nn.init.xavier_normal_(self.linears[i].weight.data, gain=1.0)\n",
        "            \n",
        "            # set biases to zero\n",
        "            nn.init.zeros_(self.linears[i].bias.data)\n",
        "            \n",
        "    # Foward pass\n",
        "    def forward(self,x):\n",
        "        if torch.is_tensor(x) != True:         \n",
        "            x = torch.from_numpy(x)                \n",
        "        a = x.float()\n",
        "        for i in range(len(layers)-2):\n",
        "            z = self.linears[i](a)         \n",
        "            a = self.activation(z)\n",
        "        a = self.linears[-1](a)\n",
        "        return a\n",
        "\n",
        "    # Define Loss Function\n",
        "    def lossNN(self,x,y):\n",
        "      loss_val=self.loss_function(self.forward(x),y)\n",
        "      return loss_val\n",
        "\n",
        "    def closure(self):\n",
        "        optimizer.zero_grad()\n",
        "        loss = self.lossNN(x_train, y_train)\n",
        "        loss.backward()       \n",
        "        self.iter += 1\n",
        "        if self.iter % 100 == 0:\n",
        "            print(loss)\n",
        "        return loss"
      ],
      "metadata": {
        "id": "9xvbzu3BKKHV"
      },
      "execution_count": 118,
      "outputs": []
    },
    {
      "cell_type": "markdown",
      "source": [
        "## 5. Data\n",
        "\n",
        "Generate the analytical solution over the full domain"
      ],
      "metadata": {
        "id": "wvFXtytlNdIK"
      }
    },
    {
      "cell_type": "code",
      "source": [
        "x = torch.linspace(0,2*np.pi,n_control_points).view(-1,1) #prepare to NN\n",
        "y = f(x)\n",
        "print(x.shape, y.shape)"
      ],
      "metadata": {
        "colab": {
          "base_uri": "https://localhost:8080/"
        },
        "id": "J_6QkhEtNabH",
        "outputId": "992dfb6d-1125-4675-e8ef-7a2c70a69e35"
      },
      "execution_count": 119,
      "outputs": [
        {
          "output_type": "stream",
          "name": "stdout",
          "text": [
            "torch.Size([100, 1]) torch.Size([100, 1])\n"
          ]
        }
      ]
    },
    {
      "cell_type": "markdown",
      "source": [
        "### 5.1 Plot Results"
      ],
      "metadata": {
        "id": "an4eSgkWNo28"
      }
    },
    {
      "cell_type": "code",
      "source": [
        "fig, ax1 = plt.subplots()\n",
        "ax1.plot(x.detach().numpy(),y.detach().numpy(),color='blue',label='Real_Train')\n",
        "#ax1.plot(x_train.detach().numpy(),yh.detach().numpy(),color='red',label='Pred_Train')\n",
        "ax1.set_xlabel('x',color='black')\n",
        "ax1.set_ylabel('f(x)',color='black')\n",
        "ax1.tick_params(axis='y', color='black')\n",
        "ax1.grid()\n",
        "ax1.legend(loc = 'upper right')"
      ],
      "metadata": {
        "colab": {
          "base_uri": "https://localhost:8080/",
          "height": 297
        },
        "id": "8ZfTOXOYNmDY",
        "outputId": "542b27d7-de87-46cc-e40c-b25366fd5562"
      },
      "execution_count": 120,
      "outputs": [
        {
          "output_type": "execute_result",
          "data": {
            "text/plain": [
              "<matplotlib.legend.Legend at 0x7f3b482cf690>"
            ]
          },
          "metadata": {},
          "execution_count": 120
        },
        {
          "output_type": "display_data",
          "data": {
            "text/plain": [
              "<Figure size 432x288 with 1 Axes>"
            ],
            "image/png": "[encoded data removed]"
          },
          "metadata": {
            "needs_background": "light"
          }
        }
      ]
    },
    {
      "cell_type": "markdown",
      "source": [
        "### 5.2 Split data"
      ],
      "metadata": {
        "id": "mWVu2kK8N1rt"
      }
    },
    {
      "cell_type": "code",
      "source": [
        "indices=np.arange(n_control_points)"
      ],
      "metadata": {
        "id": "yIQpL6DYNsoN"
      },
      "execution_count": 121,
      "outputs": []
    },
    {
      "cell_type": "code",
      "source": [
        "len(indices)"
      ],
      "metadata": {
        "colab": {
          "base_uri": "https://localhost:8080/"
        },
        "id": "g4db-RnbJqjv",
        "outputId": "b3a40e9e-4ff2-4af8-f464-7eb17fcb872a"
      },
      "execution_count": 122,
      "outputs": [
        {
          "output_type": "execute_result",
          "data": {
            "text/plain": [
              "100"
            ]
          },
          "metadata": {},
          "execution_count": 122
        }
      ]
    },
    {
      "cell_type": "code",
      "source": [
        "train_idx, test_idx, _ , _ = train_test_split(indices, indices, test_size=0.4, random_state=42)"
      ],
      "metadata": {
        "id": "i_mez1hPN6Su"
      },
      "execution_count": 123,
      "outputs": []
    },
    {
      "cell_type": "code",
      "source": [
        "x_train = x[train_idx]\n",
        "y_train = y[train_idx]\n",
        "x_test = x[test_idx]\n",
        "y_test = y[test_idx]"
      ],
      "metadata": {
        "id": "7wLtR-fhN77d"
      },
      "execution_count": 124,
      "outputs": []
    },
    {
      "cell_type": "code",
      "source": [
        "print('x_train size = ', len(x_train))\n",
        "print('y_train size = ', len(y_train))\n",
        "print('x_test size = ', len(x_test))\n",
        "print('y_test size = ', len(y_test))"
      ],
      "metadata": {
        "colab": {
          "base_uri": "https://localhost:8080/"
        },
        "id": "VNsKGK-fH1db",
        "outputId": "cbce65a2-3f1b-43b7-e274-cb24f5f06a73"
      },
      "execution_count": 125,
      "outputs": [
        {
          "output_type": "stream",
          "name": "stdout",
          "text": [
            "x_train size =  60\n",
            "y_train size =  60\n",
            "x_test size =  40\n",
            "y_test size =  40\n"
          ]
        }
      ]
    },
    {
      "cell_type": "code",
      "source": [
        "plt.scatter(x_train.detach().cpu().numpy(), y_train.detach().cpu().numpy())\n",
        "plt.grid()"
      ],
      "metadata": {
        "colab": {
          "base_uri": "https://localhost:8080/",
          "height": 265
        },
        "id": "hyXUNV-2IZ0u",
        "outputId": "60ec4979-ba3b-49f0-84f1-c983def535cf"
      },
      "execution_count": 126,
      "outputs": [
        {
          "output_type": "display_data",
          "data": {
            "text/plain": [
              "<Figure size 432x288 with 1 Axes>"
            ],
            "image/png": "[encoded data removed]"
          },
          "metadata": {
            "needs_background": "light"
          }
        }
      ]
    },
    {
      "cell_type": "code",
      "source": [
        "fig, ax1 = plt.subplots(figsize = [20, 5])\n",
        "ax1.plot(x.detach().numpy(),y.detach().numpy(),color='blue',label='Real_Train')\n",
        "ax1.scatter(x_train.detach().cpu().numpy(),y_train.detach().cpu().numpy(),color='red',label='Train')\n",
        "ax1.scatter(x_test.detach().cpu().numpy(),y_test.detach().cpu().numpy(),color='green',label='Test')\n",
        "ax1.set_xlabel('x',color='black')\n",
        "ax1.set_ylabel('f(x)',color='black')\n",
        "ax1.tick_params(axis='y', color='black')\n",
        "ax1.grid()\n",
        "ax1.legend(loc = 'upper right')"
      ],
      "metadata": {
        "colab": {
          "base_uri": "https://localhost:8080/",
          "height": 352
        },
        "id": "OWrq-HT4JGzf",
        "outputId": "cfd08a47-3bad-40bd-ca15-c1172948f885"
      },
      "execution_count": 127,
      "outputs": [
        {
          "output_type": "execute_result",
          "data": {
            "text/plain": [
              "<matplotlib.legend.Legend at 0x7f3b48f0da10>"
            ]
          },
          "metadata": {},
          "execution_count": 127
        },
        {
          "output_type": "display_data",
          "data": {
            "text/plain": [
              "<Figure size 1440x360 with 1 Axes>"
            ],
            "image/png": "[encoded data removed]"
          },
          "metadata": {
            "needs_background": "light"
          }
        }
      ]
    },
    {
      "cell_type": "markdown",
      "source": [
        "## 6. Train Network"
      ],
      "metadata": {
        "id": "0lRIQyegOEVj"
      }
    },
    {
      "cell_type": "code",
      "source": [
        "# Prepare model\n",
        "torch.manual_seed(123)\n",
        "x_train=x_train.float().to(device)\n",
        "y_train=y_train.float().to(device)\n",
        "layers = np.array([1,50,50,20,50,50,1]) #5 hidden layers"
      ],
      "metadata": {
        "id": "rHjzuynzOC-V"
      },
      "execution_count": 128,
      "outputs": []
    },
    {
      "cell_type": "code",
      "source": [
        "# Model Summary\n",
        "model = FCN(layers)\n",
        "print(model)"
      ],
      "metadata": {
        "colab": {
          "base_uri": "https://localhost:8080/"
        },
        "id": "-B6c7SssOXX3",
        "outputId": "ebd9cb09-08bb-4c68-f995-dd5493cc5cd9"
      },
      "execution_count": 129,
      "outputs": [
        {
          "output_type": "stream",
          "name": "stdout",
          "text": [
            "FCN(\n",
            "  (activation): Tanh()\n",
            "  (loss_function): MSELoss()\n",
            "  (linears): ModuleList(\n",
            "    (0): Linear(in_features=1, out_features=50, bias=True)\n",
            "    (1): Linear(in_features=50, out_features=50, bias=True)\n",
            "    (2): Linear(in_features=50, out_features=20, bias=True)\n",
            "    (3): Linear(in_features=20, out_features=50, bias=True)\n",
            "    (4): Linear(in_features=50, out_features=50, bias=True)\n",
            "    (5): Linear(in_features=50, out_features=1, bias=True)\n",
            "  )\n",
            ")\n"
          ]
        }
      ]
    },
    {
      "cell_type": "code",
      "source": [
        "model.to(device)\n",
        "\n",
        "params = list(model.parameters())\n",
        "optimizer = torch.optim.Adam(model.parameters(),lr=lr,amsgrad=False)\n",
        "start_time = time.time()"
      ],
      "metadata": {
        "id": "-k3xx73YOZJG"
      },
      "execution_count": 130,
      "outputs": []
    },
    {
      "cell_type": "markdown",
      "source": [
        "### 6.1 Training Loop"
      ],
      "metadata": {
        "id": "Mmn06FNhOg7A"
      }
    },
    {
      "cell_type": "code",
      "source": [
        "l = []\n",
        "\n",
        "for i in range(steps):\n",
        "    optimizer.zero_grad()\n",
        "    yh = model(x_train)\n",
        "    loss = model.lossNN(x_train,y_train)# use mean squared error\n",
        "    l.append(loss.item())\n",
        "    loss.backward()\n",
        "    optimizer.step()\n",
        "    if i%(steps/10)==0:\n",
        "      print(loss)"
      ],
      "metadata": {
        "colab": {
          "base_uri": "https://localhost:8080/"
        },
        "id": "OOuEEvNvOKmF",
        "outputId": "258f43f6-1e4a-4968-9289-76df7688ab85"
      },
      "execution_count": 131,
      "outputs": [
        {
          "output_type": "stream",
          "name": "stdout",
          "text": [
            "tensor(0.6361, device='cuda:0', grad_fn=<MseLossBackward0>)\n",
            "tensor(0.5262, device='cuda:0', grad_fn=<MseLossBackward0>)\n",
            "tensor(0.3733, device='cuda:0', grad_fn=<MseLossBackward0>)\n",
            "tensor(0.2296, device='cuda:0', grad_fn=<MseLossBackward0>)\n",
            "tensor(0.1124, device='cuda:0', grad_fn=<MseLossBackward0>)\n",
            "tensor(0.0953, device='cuda:0', grad_fn=<MseLossBackward0>)\n",
            "tensor(0.0770, device='cuda:0', grad_fn=<MseLossBackward0>)\n",
            "tensor(0.0751, device='cuda:0', grad_fn=<MseLossBackward0>)\n",
            "tensor(0.0642, device='cuda:0', grad_fn=<MseLossBackward0>)\n",
            "tensor(0.0657, device='cuda:0', grad_fn=<MseLossBackward0>)\n"
          ]
        }
      ]
    },
    {
      "cell_type": "markdown",
      "source": [
        "## 6. Accuracy"
      ],
      "metadata": {
        "id": "6a2CMkuZOnQq"
      }
    },
    {
      "cell_type": "code",
      "source": [
        "print(model.lossNN(x_test.float().to(device),y_test.float().to(device)))"
      ],
      "metadata": {
        "colab": {
          "base_uri": "https://localhost:8080/"
        },
        "id": "Z_8egvHbOj0V",
        "outputId": "876691ea-bb77-4e7c-a039-e07b1fb1f3bc"
      },
      "execution_count": 132,
      "outputs": [
        {
          "output_type": "stream",
          "name": "stdout",
          "text": [
            "tensor(0.0496, device='cuda:0', grad_fn=<MseLossBackward0>)\n"
          ]
        }
      ]
    },
    {
      "cell_type": "code",
      "source": [
        "yh = model(x_train)\n",
        "yh_test = model(x_test.float().to(device))"
      ],
      "metadata": {
        "id": "V6JLSVU2OrzM"
      },
      "execution_count": 133,
      "outputs": []
    },
    {
      "cell_type": "code",
      "source": [
        "_ , indices2 = torch.sort(x_train.squeeze(1))\n",
        "_ , indices3 = torch.sort(x_test.squeeze(1))"
      ],
      "metadata": {
        "id": "a_f5EceXOvsb"
      },
      "execution_count": 134,
      "outputs": []
    },
    {
      "cell_type": "code",
      "source": [
        "x_train_plot = x_train[indices2]\n",
        "y_train_plot = y_train[indices2]\n",
        "yh_plot = yh[indices2]\n",
        "x_test_plot = x_test[indices3]\n",
        "y_test_plot = y_test[indices3]\n",
        "yh_test_plot = yh_test[indices3] "
      ],
      "metadata": {
        "id": "6j-RCtiNOzEz"
      },
      "execution_count": 135,
      "outputs": []
    },
    {
      "cell_type": "markdown",
      "source": [
        "## 7. Plot Results"
      ],
      "metadata": {
        "id": "qyXasn-WO5zo"
      }
    },
    {
      "cell_type": "code",
      "source": [
        "plt.plot(l)\n",
        "plt.xlabel('Number of iterations', fontsize = 12)\n",
        "plt.ylabel('Loss', fontsize = 12)\n",
        "plt.title('Loss Function over iterations', fontsize = 18)\n",
        "plt.grid()"
      ],
      "metadata": {
        "colab": {
          "base_uri": "https://localhost:8080/",
          "height": 302
        },
        "id": "ASWDXCuJG3Og",
        "outputId": "0c480ad8-644f-41fd-a2c1-4bc540de801f"
      },
      "execution_count": 136,
      "outputs": [
        {
          "output_type": "display_data",
          "data": {
            "text/plain": [
              "<Figure size 432x288 with 1 Axes>"
            ],
            "image/png": "[encoded data removed]"
          },
          "metadata": {
            "needs_background": "light"
          }
        }
      ]
    },
    {
      "cell_type": "code",
      "source": [
        "fig, ax1 = plt.subplots()\n",
        "ax1.plot(x_train_plot.detach().cpu().numpy(),y_train_plot.detach().cpu().numpy(),color='blue',label='Real_Train')\n",
        "ax1.plot(x_train_plot.detach().cpu().numpy(),yh_plot.detach().cpu().numpy(),color='red',label='Pred_Train')\n",
        "#ax1.plot(x_test_plot.detach().numpy(),y_test_plot.detach().numpy(),color='green',label='Real_Test')\n",
        "#ax1.plot(x_test_plot.detach().numpy(),yh_test_plot.detach().numpy(),color='orange',label='Pred_Test')\n",
        "ax1.set_xlabel('x',color='black')\n",
        "ax1.set_ylabel('f(x)',color='black')\n",
        "ax1.tick_params(axis='y', color='black')\n",
        "ax1.grid()\n",
        "ax1.legend(loc = 'upper left')"
      ],
      "metadata": {
        "colab": {
          "base_uri": "https://localhost:8080/",
          "height": 297
        },
        "id": "F7VYZn23O4M8",
        "outputId": "a9203156-bdbc-4e44-b9ac-ecab1fbd6794"
      },
      "execution_count": 137,
      "outputs": [
        {
          "output_type": "execute_result",
          "data": {
            "text/plain": [
              "<matplotlib.legend.Legend at 0x7f3b4885e3d0>"
            ]
          },
          "metadata": {},
          "execution_count": 137
        },
        {
          "output_type": "display_data",
          "data": {
            "text/plain": [
              "<Figure size 432x288 with 1 Axes>"
            ],
            "image/png": "[encoded data removed]"
          },
          "metadata": {
            "needs_background": "light"
          }
        }
      ]
    },
    {
      "cell_type": "code",
      "source": [
        "torch.max(x_train)"
      ],
      "metadata": {
        "colab": {
          "base_uri": "https://localhost:8080/"
        },
        "id": "wFwSUt5BO8mj",
        "outputId": "5fd0f8b6-7b5d-479e-a67e-68fc3ca55d98"
      },
      "execution_count": 138,
      "outputs": [
        {
          "output_type": "execute_result",
          "data": {
            "text/plain": [
              "tensor(6.2832, device='cuda:0')"
            ]
          },
          "metadata": {},
          "execution_count": 138
        }
      ]
    },
    {
      "cell_type": "code",
      "source": [
        "print('x_train size = ', len(x_train))\n",
        "print('y_train size = ', len(y_train))\n",
        "print('x_test size = ', len(x_test))\n",
        "print('y_test size = ', len(y_test))"
      ],
      "metadata": {
        "colab": {
          "base_uri": "https://localhost:8080/"
        },
        "id": "EMcqTmZWQmQc",
        "outputId": "8856c419-c4f4-4759-e185-611a8edc0d0b"
      },
      "execution_count": 144,
      "outputs": [
        {
          "output_type": "stream",
          "name": "stdout",
          "text": [
            "x_train size =  60\n",
            "y_train size =  60\n",
            "x_test size =  40\n",
            "y_test size =  40\n"
          ]
        }
      ]
    },
    {
      "cell_type": "code",
      "source": [
        "print('x_train_plot size = ', len(x_train_plot))\n",
        "print('y_train_plot size = ', len(y_train_plot))\n"
      ],
      "metadata": {
        "colab": {
          "base_uri": "https://localhost:8080/"
        },
        "id": "X1upzCDkQyjZ",
        "outputId": "9f5ccc47-4c05-4634-8c07-8bdd56ee95c0"
      },
      "execution_count": 145,
      "outputs": [
        {
          "output_type": "stream",
          "name": "stdout",
          "text": [
            "x_train_plot size =  60\n",
            "y_train_plot size =  60\n"
          ]
        }
      ]
    },
    {
      "cell_type": "code",
      "source": [
        "print('yh_test size = ', len(yh_test))"
      ],
      "metadata": {
        "colab": {
          "base_uri": "https://localhost:8080/"
        },
        "id": "AthHmxZnRPIG",
        "outputId": "712f1dc6-e7cc-410d-837b-7e5f1823c0a2"
      },
      "execution_count": 146,
      "outputs": [
        {
          "output_type": "stream",
          "name": "stdout",
          "text": [
            "yh_test size =  40\n"
          ]
        }
      ]
    },
    {
      "cell_type": "code",
      "source": [
        "fig, (ax1, ax2) = plt.subplots(1, 2, figsize=(20, 5))\n",
        "\n",
        "ax1.plot(x_train_plot.detach().cpu().numpy(),y_train_plot.detach().cpu().numpy(),color='blue',label='Real')\n",
        "ax1.plot(x_train_plot.detach().cpu().numpy(),yh_plot.detach().cpu().numpy(),color='red',label='Predicted')\n",
        "\n",
        "ax1.scatter(x_train.detach().cpu().numpy(),y_train.detach().cpu().numpy(),color='red',label='Train')\n",
        "ax1.scatter(x_test.detach().cpu().numpy(),y_test.detach().cpu().numpy(),color='green',label='Test')\n",
        "\n",
        "ax1.scatter(x_test.detach().cpu().numpy(),yh_test.detach().cpu().numpy(),color='violet',label='Output')\n",
        "\n",
        "ax1.set_xlabel('x',color='black')\n",
        "ax1.set_ylabel('f(x)',color='black')\n",
        "ax1.tick_params(axis='y', color='black')\n",
        "ax1.legend(loc = 'upper right')\n",
        "ax1.grid()\n",
        "\n",
        "##############\n",
        "ax2.plot(l)\n",
        "ax2.set_xlabel('Number of iterations', fontsize = 12)\n",
        "ax2.set_ylabel('Loss', fontsize = 12)\n",
        "ax2.set_title('Loss Function over iterations', fontsize = 18)\n",
        "ax2.grid()"
      ],
      "metadata": {
        "id": "1r2C_xAjPMty",
        "colab": {
          "base_uri": "https://localhost:8080/",
          "height": 357
        },
        "outputId": "8356edb2-74cc-482b-81aa-c7804d8b0f87"
      },
      "execution_count": 147,
      "outputs": [
        {
          "output_type": "display_data",
          "data": {
            "text/plain": [
              "<Figure size 1440x360 with 2 Axes>"
            ],
            "image/png": "[encoded data removed]"
          },
          "metadata": {
            "needs_background": "light"
          }
        }
      ]
    },
    {
      "cell_type": "code",
      "source": [
        ""
      ],
      "metadata": {
        "id": "lXqu4wlEHP1o"
      },
      "execution_count": 139,
      "outputs": []
    }
  ]
}